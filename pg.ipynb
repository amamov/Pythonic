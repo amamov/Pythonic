{
 "cells": [
  {
   "cell_type": "markdown",
   "metadata": {},
   "source": [
    "## Python Playground"
   ]
  },
  {
   "cell_type": "code",
   "execution_count": null,
   "metadata": {},
   "outputs": [],
   "source": [
    "# x - 2*sin(x**2) = 의 근"
   ]
  },
  {
   "cell_type": "code",
   "execution_count": 24,
   "metadata": {
    "tags": []
   },
   "outputs": [
    {
     "output_type": "execute_result",
     "data": {
      "text/plain": "'0 -1 -1 -1 -1 -1 -1 -1 -1 -1 -1 -1 1 -1 4 -1 -1 -1 -1 -1 -1 5 -1 -1 -1 -1'"
     },
     "metadata": {},
     "execution_count": 24
    }
   ],
   "source": [
    "def main():\n",
    "    \n",
    "\n",
    "main()"
   ]
  },
  {
   "cell_type": "code",
   "execution_count": null,
   "metadata": {},
   "outputs": [],
   "source": []
  },
  {
   "cell_type": "code",
   "execution_count": null,
   "metadata": {},
   "outputs": [],
   "source": []
  }
 ],
 "metadata": {
  "language_info": {
   "codemirror_mode": {
    "name": "ipython",
    "version": 3
   },
   "file_extension": ".py",
   "mimetype": "text/x-python",
   "name": "python",
   "nbconvert_exporter": "python",
   "pygments_lexer": "ipython3",
   "version": "3.8.6-final"
  },
  "orig_nbformat": 2,
  "kernelspec": {
   "name": "python38664bitpythonicpipenv6de764fe9a9949f68e00c05971b5099c",
   "display_name": "Python 3.8.6 64-bit ('Pythonic': pipenv)"
  }
 },
 "nbformat": 4,
 "nbformat_minor": 2
}