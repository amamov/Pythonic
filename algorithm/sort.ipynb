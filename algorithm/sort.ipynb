{
 "cells": [
  {
   "cell_type": "markdown",
   "metadata": {},
   "source": [
    "# Python Sort Algoritm"
   ]
  },
  {
   "cell_type": "markdown",
   "metadata": {},
   "source": [
    "## [min max]"
   ]
  },
  {
   "cell_type": "code",
   "execution_count": 3,
   "metadata": {
    "tags": []
   },
   "outputs": [
    {
     "output_type": "stream",
     "name": "stdout",
     "text": "min: 1\nmax: 4\n"
    }
   ],
   "source": [
    "\n",
    "def minmax(l: list) -> tuple:\n",
    "    mini = 999\n",
    "    maxi = -999\n",
    "    for i in range(len(l)):\n",
    "        if l[i] < mini:\n",
    "            mini = l[i]\n",
    "        if l[i] > maxi:\n",
    "            maxi = l[i]\n",
    "    return mini, maxi\n",
    "\n",
    "def main():\n",
    "    sample = list(map(int, input('Input the list element: ').split(' ')))\n",
    "    mini, maxi = minmax(sample)\n",
    "    print('min:', mini)\n",
    "    print('max:', maxi)\n",
    "\n",
    "main()"
   ]
  },
  {
   "cell_type": "markdown",
   "metadata": {},
   "source": [
    "## [Bubble Sort]"
   ]
  },
  {
   "cell_type": "code",
   "execution_count": 14,
   "metadata": {
    "tags": []
   },
   "outputs": [
    {
     "output_type": "stream",
     "name": "stdout",
     "text": "sample: [1, 8, 4, 2, 5, 6, 7, 9, 10, 3]\nsorted sample: [1, 2, 3, 4, 5, 6, 7, 8, 9, 10]\n"
    }
   ],
   "source": [
    "from random import shuffle\n",
    "\n",
    "def bubble_sort(l: list) -> list:\n",
    "    for count in range(len(l)):\n",
    "        for i in range(1, len(l)):\n",
    "            if l[i-1] > l[i]:\n",
    "                l[i], l[i-1] = l[i-1], l[i]\n",
    "    return l\n",
    "            \n",
    "\n",
    "def main():\n",
    "    sample = [1, 2, 3, 4, 5, 6, 7, 8, 9, 10]\n",
    "    shuffle(sample)\n",
    "    print('sample:', sample)\n",
    "    sample = bubble_sort(sample)\n",
    "    print('sorted sample:', sample)\n",
    "\n",
    "main()"
   ]
  },
  {
   "cell_type": "code",
   "execution_count": null,
   "metadata": {},
   "outputs": [],
   "source": []
  },
  {
   "cell_type": "code",
   "execution_count": null,
   "metadata": {},
   "outputs": [],
   "source": []
  },
  {
   "cell_type": "code",
   "execution_count": null,
   "metadata": {},
   "outputs": [],
   "source": []
  }
 ],
 "metadata": {
  "language_info": {
   "codemirror_mode": {
    "name": "ipython",
    "version": 3
   },
   "file_extension": ".py",
   "mimetype": "text/x-python",
   "name": "python",
   "nbconvert_exporter": "python",
   "pygments_lexer": "ipython3",
   "version": "3.8.6-final"
  },
  "orig_nbformat": 2,
  "kernelspec": {
   "name": "python38664bitpythonicpipenv6de764fe9a9949f68e00c05971b5099c",
   "display_name": "Python 3.8.6 64-bit ('Pythonic': pipenv)"
  }
 },
 "nbformat": 4,
 "nbformat_minor": 2
}