{
 "cells": [
  {
   "cell_type": "markdown",
   "metadata": {},
   "source": [
    "# Python\n",
    "```\n",
    "파이썬은 모든 것이 객체이다.\n",
    "객체는 어떠한 속성값과 행동을 가지고 있는 데이터이다.\n",
    "```"
   ]
  },
  {
   "cell_type": "markdown",
   "metadata": {},
   "source": [
    "## 1. 레퍼런스 카운트와 가비지 컬렉션\n",
    "Reference count and Garbage collection\n",
    "\n",
    "- ### 레퍼런스 카운트 : 객체를 참조하는 변수의 수\n",
    "- ### 가비지 컬렉션 : 프로그램이 동적으로 할당했던 메모리 영역 중에서 필요없게 된 영역을 해제하는 기능\n",
    "- ### 레퍼런스 카운트가 0이 되면 소멸 대상으로 등록되고 시스템의 시간적 여유가 있을 때 가비지 컬렉션이 제거한다.\n",
    "```\n",
    "s = 'amamov'\n",
    "\n",
    "1. 문자열 객체인 'amamov'에 s라는 이름을 붙였다. \n",
    "2. 변수 s가 문자열 객체 'amamov'를 참조한다.\n",
    "3. 변수 s가 문자열 객체 'amamov'를 레퍼런스한다.\n",
    "```\n"
   ]
  },
  {
   "cell_type": "code",
   "execution_count": 7,
   "metadata": {
    "tags": []
   },
   "outputs": [
    {
     "name": "stdout",
     "output_type": "stream",
     "text": [
      "a ->  4451850800 1\n",
      "b ->  4451850800 1\n",
      "a와 b가 참조하는 객체는 같은 객체인가? :  True\n",
      "a += 2\n",
      "a ->  4451850864 3\n",
      "b ->  4451850800 1\n",
      "a와 b가 참조하는 객체는 같은 객체인가? :  False\n",
      "\n",
      "a ->  4487032896 [1, 2, 3]\n",
      "b ->  4487032896 [1, 2, 3]\n",
      "a와 b가 참조하는 객체는 같은 객체인가? :  True\n",
      "a[0] = 100\n",
      "a ->  4487032896 [100, 2, 3]\n",
      "b ->  4487032896 [100, 2, 3]\n",
      "a와 b가 참조하는 객체는 같은 객체인가? :  True\n"
     ]
    }
   ],
   "source": [
    "def print_func(var1, var2):\n",
    "    print('a -> ', id(var1), var1)\n",
    "    print('b -> ', id(var2), var2)\n",
    "    print('a와 b가 참조하는 객체는 같은 객체인가? : ', var1 is var2)\n",
    "\n",
    "a = 1\n",
    "b = a\n",
    "print_func(a, b)\n",
    "a += 2\n",
    "print('a += 2')\n",
    "print_func(a, b)\n",
    "\n",
    "print()\n",
    "\n",
    "a = [1, 2, 3]\n",
    "b = a\n",
    "\n",
    "print_func(a, b)\n",
    "a[0] = 100\n",
    "print('a[0] = 100')\n",
    "print_func(a, b)"
   ]
  },
  {
   "cell_type": "code",
   "execution_count": 17,
   "metadata": {
    "tags": []
   },
   "outputs": [],
   "source": [
    "r1 = [1, 2, 3] # 리스트 [1, 2, 3]의 레퍼런스 카운트는 1\n",
    "var2 = var1 # 리스트 [1, 2, 3]의 레퍼런스 카운트는 2\n",
    "var1 = 'another' # 리스트 [1, 2, 3]의 레퍼런스 카운트는 1\n",
    "var2 = 'happy' # 리스트 [1, 2, 3]의 레퍼런스 카운트는 0 따라서 가비지 컬렉션의 대상(소멸의 대상)"
   ]
  },
  {
   "cell_type": "markdown",
   "metadata": {},
   "source": [
    "## 2. 파이썬 인터프리터\n",
    "```\n",
    "우리가 파이썬 코드를(스크립트를) 작성하고 실행하면 이 코드는 먼저 바이트 코드라는 것으로 변환되어 어딘가에 저장되고\n",
    "\n",
    "이 바이트 코드는 파이썬 가상 머신(python virtual machine : PVM) 위에서 실행이 된다. \n",
    "\n",
    "실제 파이썬의 프로그램 실행 주체는 PVM이고 PVM에 의해 가비지 컬렉션도 진행이 된다. \n",
    "\n",
    "파이썬 코드 변환기와 가상 머신, 기본적으로 포함되는 각종 라이브러리들을 묶어서 파이썬 인터프리터라 한다.\n",
    "\n",
    "파이썬 인터프리터는 기본적으로 PVM의 구현 방식에 따라 나뉘고 PVM이 C언어로 구현되어 있는 가장 일반적인 인터프리터를 가리켜 CPython이라 한다.\n",
    "\n",
    "```"
   ]
  },
  {
   "cell_type": "code",
   "execution_count": null,
   "metadata": {},
   "outputs": [],
   "source": []
  }
 ],
 "metadata": {
  "kernelspec": {
   "display_name": "Python 3.8.6 64-bit ('Pythonic': pipenv)",
   "language": "python",
   "name": "python38664bitpythonicpipenv6de764fe9a9949f68e00c05971b5099c"
  },
  "language_info": {
   "codemirror_mode": {
    "name": "ipython",
    "version": 3
   },
   "file_extension": ".py",
   "mimetype": "text/x-python",
   "name": "python",
   "nbconvert_exporter": "python",
   "pygments_lexer": "ipython3",
   "version": "3.8.6"
  }
 },
 "nbformat": 4,
 "nbformat_minor": 2
}
