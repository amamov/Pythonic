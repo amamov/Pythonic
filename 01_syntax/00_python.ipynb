{
 "cells": [
  {
   "cell_type": "markdown",
   "metadata": {},
   "source": [
    "# Python\n",
    "```\n",
    "파이썬은 모든 것이 객체이다.\n",
    "객체는 어떠한 속성값과 행동을 가지고 있는 데이터이다.\n",
    "```\n",
    "## [파이썬 인터프리터]\n",
    "```\n",
    "우리가 파이썬 코드를(스크립트를) 작성하고 실행하면 이 코드는 먼저 바이트 코드라는 것으로 변환되어 어딘가에 저장되고\n",
    "\n",
    "이 바이트 코드는 파이썬 가상 머신(python virtual machine : PVM) 위에서 실행이 된다. \n",
    "\n",
    "실제 파이썬의 프로그램 실행 주체는 PVM이고 PVM에 의해 가비지 컬렉션도 진행이 된다. \n",
    "\n",
    "파이썬 코드 변환기와 가상 머신, 기본적으로 포함되는 각종 라이브러리들을 묶어서 파이썬 인터프리터라 한다.\n",
    "\n",
    "파이썬 인터프리터는 기본적으로 PVM의 구현 방식에 따라 나뉘고 \n",
    "\n",
    "PVM이 C언어로 구현되어 있는 가장 일반적인 인터프리터를 가리켜 CPython이라 한다.\n",
    "\n",
    "파이썬 인터프리터에 의해서 호출이 되는 메서드를 스페셜 메서드라고 정의한다.\n",
    "\n",
    "```\n"
   ]
  },
  {
   "cell_type": "markdown",
   "metadata": {},
   "source": [
    "## [1. 레퍼런스 카운트와 가비지 컬렉션]\n",
    "Reference count and Garbage collection\n",
    "\n",
    "- ### 레퍼런스 카운트 : 객체를 참조하는 변수의 수\n",
    "- ### 가비지 컬렉션 : 프로그램이 동적으로 할당했던 메모리 영역 중에서 필요없게 된 영역을 해제하는 기능\n",
    "- ### 레퍼런스 카운트가 0이 되면 소멸 대상으로 등록되고 시스템의 시간적 여유가 있을 때 가비지 컬렉션이 제거한다.\n",
    "```\n",
    "s = 'amamov'\n",
    "\n",
    "1. 문자열 객체인 'amamov'에 s라는 이름을 붙였다. \n",
    "2. 변수 s가 문자열 객체 'amamov'를 참조한다.\n",
    "3. 변수 s가 문자열 객체 'amamov'를 레퍼런스한다.\n",
    "```\n"
   ]
  },
  {
   "cell_type": "code",
   "execution_count": null,
   "metadata": {},
   "outputs": [],
   "source": [
    "var1 = [1, 2, 3] # 리스트 [1, 2, 3]의 레퍼런스 카운트는 1\n",
    "var2 = var1 # 리스트 [1, 2, 3]의 레퍼런스 카운트는 2\n",
    "var1 = 'another' # 리스트 [1, 2, 3]의 레퍼런스 카운트는 1\n",
    "var2 = 'happy' # 리스트 [1, 2, 3]의 레퍼런스 카운트는 0 따라서 가비지 컬렉션의 대상(소멸의 대상)"
   ]
  },
  {
   "cell_type": "markdown",
   "metadata": {},
   "source": [
    "## [2. Immutable 객체와 Mutable 객체]\n",
    "\n",
    "1. Immutable 객체(불변형 객체)\n",
    "    - 객체에 저장된 값이 수정이 불가능한 객체 \n",
    "    - tuple, str, int, ...\n",
    "    - 한 변수(s1)가 객체('yss')를 참조하고 다른 변수(s2)가 같은 값의 객체('yss')를 참조하고자 한다면 그 변수(s2)는 그 객체('yss')를 참조한다.\n",
    "\n",
    "2. Mutable 객체(가변형 객체)\n",
    "    - 객체에 저장된 값이 수정이 가능한 객체\n",
    "    - dictionary, list, ...\n",
    "    - 한 변수(l1)가 객체(\\[1,2,3\\])를 참조하고 다른 변수(l2)가 같은 값의 객체(\\[1,2,3\\])를 참조하고자 해도 그 변수(l2)는 같은 값의 다른 객체를 참조한다. "
   ]
  },
  {
   "cell_type": "code",
   "execution_count": 9,
   "metadata": {
    "tags": []
   },
   "outputs": [
    {
     "output_type": "stream",
     "name": "stdout",
     "text": "[Mutable 객체의 변수 할당과 객체의 주소]\n[1, 2, 3] 주소 : 4423678208\nl1 = [1, 2, 3] >> l1 주소 : 4423677952\nl2 = [1, 2, 3] >> l2 주소 : 4423679104\nl3 = l1 >> l3 주소 : 4423677952\nl1과 l3의 주소는 같다.\nl1 += [4, 5] >> l1의 주소, 값 : 4423677952 [1, 2, 3, 4, 5]\nl1 += [4, 5] >> l3의 주소, 값 : 4423677952 [1, 2, 3, 4, 5]\n\n[Immutable 객체의 변수 할당과 객체의 주소]\n'yss' 주소 : 4422462016\ns1 = 'yss >> s1 주소 : 4339355312\ns2 = 'yss >> s2 주소 : 4339355312\ns3 = s1 >> s3 주소 : 4339355312\ns1 += (4, 5) >> s1의 주소, 값 : 4338206256 ysswow\ns1 += (4, 5) >> s3의 주소, 값 : 4339355312 yss\ns1의 주소가 변경되었다. --> 다른 객체를 참조한다.\n"
    }
   ],
   "source": [
    "print(\"[Mutable 객체의 변수 할당과 객체의 주소]\")\n",
    "l1 = [1, 2, 3]\n",
    "l2 = [1, 2, 3]\n",
    "l3 = l1\n",
    "print(\"[1, 2, 3] 주소 :\", id([1, 2, 3]))\n",
    "print(\"l1 = [1, 2, 3] >> l1 주소 :\", id(l1))\n",
    "print(\"l2 = [1, 2, 3] >> l2 주소 :\", id(l2))\n",
    "print(\"l3 = l1 >> l3 주소 :\", id(l3))\n",
    "\n",
    "print(\"l1과 l3의 주소는 같다.\")\n",
    "l1 += [4, 5]\n",
    "print(\"l1 += [4, 5] >> l1의 주소, 값 :\", id(l1), l1)\n",
    "print(\"l1 += [4, 5] >> l3의 주소, 값 :\", id(l3), l3)\n",
    "\n",
    "print()\n",
    "\n",
    "print(\"[Immutable 객체의 변수 할당과 객체의 주소]\")\n",
    "s1 = \"yss\"\n",
    "s2 = \"yss\"\n",
    "s3 = s1\n",
    "print(\"'yss' 주소 :\", id((1, 2, 3)))\n",
    "print(\"s1 = 'yss >> s1 주소 :\", id(s1))\n",
    "print(\"s2 = 'yss >> s2 주소 :\", id(s2))\n",
    "print(\"s3 = s1 >> s3 주소 :\", id(s3))\n",
    "\n",
    "s1 += \"wow\"\n",
    "print(\"s1 += (4, 5) >> s1의 주소, 값 :\", id(s1), s1)\n",
    "print(\"s1 += (4, 5) >> s3의 주소, 값 :\", id(s3), s3)\n",
    "print(\"s1의 주소가 변경되었다. --> 다른 객체를 참조한다.\")"
   ]
  },
  {
   "cell_type": "code",
   "execution_count": 32,
   "metadata": {
    "tags": []
   },
   "outputs": [
    {
     "output_type": "stream",
     "name": "stdout",
     "text": "ll의 주소 : [1, [2, 3, 4], (5, 6)] 4570808128\nll_deep의 주소 : [1, [2, 3, 4], (5, 6)] 4570804992\nll_shallow의 주소 : [1, [2, 3, 4], (5, 6)] 4570807808\n4444551728 4570807552 4570380160 \n4444551728 4570807552 4570380160 \n4444551728 4570806080 4570380160"
    }
   ],
   "source": [
    "# 깊은 복사\n",
    "from copy import deepcopy, copy\n",
    "\n",
    "ll = [1, [2, 3, 4], (5, 6)]\n",
    "ll_deep = deepcopy(ll)\n",
    "ll_shallow = copy(ll)\n",
    "\n",
    "print(\"ll의 주소 :\", ll, id(ll))\n",
    "print(\"ll_deep의 주소 :\", ll_deep, id(ll_deep))\n",
    "print(\"ll_shallow의 주소 :\", ll_shallow, id(ll_shallow))\n",
    "\n",
    "for i in ll:\n",
    "    print(id(i), end=' ')\n",
    "print()\n",
    "for i in ll_shallow:\n",
    "    print(id(i), end=' ')\n",
    "print()\n",
    "for i in ll_deep:\n",
    "    print(id(i), end=' ')\n",
    "\n"
   ]
  },
  {
   "cell_type": "code",
   "execution_count": 47,
   "metadata": {
    "tags": []
   },
   "outputs": [
    {
     "output_type": "stream",
     "name": "stdout",
     "text": "4564121664\n4564121664 (1, 2, [1, 2, 3, 4])\n"
    }
   ],
   "source": [
    "tu=(1, 2, [1, 2, 3])\n",
    "print(id(tu))\n",
    "\n",
    "tu[2].append(4)\n",
    "print(id(tu), tu)"
   ]
  },
  {
   "cell_type": "code",
   "execution_count": 11,
   "metadata": {
    "tags": []
   },
   "outputs": [
    {
     "output_type": "stream",
     "name": "stdout",
     "text": "[가변형 데이터의 함수 전달]\n함수 들어가기 전의 변수 주소 : 4304128560 4304128592\n함수 안에서의 변수 주소 : 4304128560 4304128592\n3 1 2\n\n[불변형 데이터의 함수 전달]\n함수 들어가기 전의 변수 주소 : 4424021632 4424369664\n함수 안에서의 변수 주소 : 4424021632 4424369664\n[1, 2, 3, 4, 5] [1, 2, 3, 4, 5] [3, 4, 5]\n"
    }
   ],
   "source": [
    "# 함수의 매개변수 전달\n",
    "def add(x, y):\n",
    "    print(\"함수 안에서의 변수 주소 :\", id(x), id(y))\n",
    "    x += y\n",
    "    return x\n",
    "\n",
    "print(\"[가변형 데이터의 함수 전달]\")\n",
    "i1 = 1\n",
    "i2 = 2\n",
    "print(\"함수 들어가기 전의 변수 주소 :\", id(i1), id(i2))\n",
    "print(add(1, 2), i1, i2)\n",
    "\n",
    "print()\n",
    "\n",
    "print(\"[불변형 데이터의 함수 전달]\")\n",
    "l1 = [1, 2]\n",
    "l2 = [3, 4, 5]\n",
    "print(\"함수 들어가기 전의 변수 주소 :\", id(l1), id(l2))\n",
    "print(add(l1, l2), l1, l2)"
   ]
  },
  {
   "cell_type": "markdown",
   "metadata": {},
   "source": [
    "## [3. Iterable 객체와 Iterator 객체]\n",
    "- Iterable 객체 : iter 함수에 인자로 전달이 가능한 객체 -> tuple, list, dictionary, set, ...\n",
    "- Iterator 객체 : iter 함수가 생성해서 반환하는 객체\n",
    "- Iterable 객체를 대상으로 iter 함수를 호출해서 Iterator 객체를 만든다.\n",
    "- Iterable 객체와 Iterator 객체 모두 for 루프의 반복 대상이 될 수 있다.\n",
    "- Iterable 객체가 와야하는 위치에는 Iterator 객체가 올 수 있다.\n"
   ]
  },
  {
   "cell_type": "code",
   "execution_count": 7,
   "metadata": {
    "tags": []
   },
   "outputs": [
    {
     "output_type": "stream",
     "name": "stdout",
     "text": "<class 'list_iterator'>\n1\n2\n"
    }
   ],
   "source": [
    "my_list = [1, 2, 3, 4] # iterable 객체\n",
    "ir = iter(my_list) # iterator 객체 ( my_list.__iter__() )\n",
    "print(type(ir))\n",
    "\n",
    "print(next(ir)) # ir.__next__()\n",
    "print(next(ir)) # ir.__next__()"
   ]
  },
  {
   "cell_type": "code",
   "execution_count": 3,
   "metadata": {
    "tags": []
   },
   "outputs": [
    {
     "output_type": "stream",
     "name": "stdout",
     "text": "1 2 3 \n1 2 3"
    }
   ],
   "source": [
    "# for loop의 동작원리\n",
    "for i in [1, 2, 3]:\n",
    "    print(i, end=' ')\n",
    "\n",
    "print()\n",
    "\n",
    "ir = iter([1, 2, 3])\n",
    "while True:\n",
    "    try:\n",
    "        i = next(ir)\n",
    "        print(i, end=' ')\n",
    "    except StopIteration:\n",
    "        break\n",
    "\n",
    "\n"
   ]
  },
  {
   "cell_type": "code",
   "execution_count": null,
   "metadata": {},
   "outputs": [],
   "source": []
  },
  {
   "cell_type": "code",
   "execution_count": null,
   "metadata": {},
   "outputs": [],
   "source": []
  }
 ],
 "metadata": {
  "kernelspec": {
   "display_name": "Python 3.8.6 64-bit ('Pythonic': pipenv)",
   "language": "python",
   "name": "python38664bitpythonicpipenv6de764fe9a9949f68e00c05971b5099c"
  },
  "language_info": {
   "codemirror_mode": {
    "name": "ipython",
    "version": 3
   },
   "file_extension": ".py",
   "mimetype": "text/x-python",
   "name": "python",
   "nbconvert_exporter": "python",
   "pygments_lexer": "ipython3",
   "version": "3.8.6-final"
  }
 },
 "nbformat": 4,
 "nbformat_minor": 2
}