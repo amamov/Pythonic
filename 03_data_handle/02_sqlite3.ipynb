{
 "cells": [
  {
   "cell_type": "markdown",
   "metadata": {},
   "source": [
    "# python sqlite3\n",
    "```\n",
    "Commit : DB에 영구적으로 쓰는 것\n",
    "Rollback : Data가 수정되기 전으로 되돌리는 것 \n",
    "Sqlite3 Data Type : TEXT, NUMERIC, INTEGER, REAL, BLOB \n",
    "```"
   ]
  },
  {
   "cell_type": "markdown",
   "metadata": {},
   "source": [
    "## 1. DB 생성"
   ]
  },
  {
   "cell_type": "code",
   "execution_count": 1,
   "metadata": {
    "tags": []
   },
   "outputs": [
    {
     "output_type": "stream",
     "name": "stdout",
     "text": "sqlite3.version :  2.6.0\n"
    }
   ],
   "source": [
    "import sqlite3\n",
    "\n",
    "# sqlite3 버전 확인\n",
    "print('sqlite3.version : ', sqlite3.version)"
   ]
  },
  {
   "cell_type": "code",
   "execution_count": 7,
   "metadata": {
    "tags": []
   },
   "outputs": [
    {
     "output_type": "stream",
     "name": "stdout",
     "text": "현재 시간 :  2020-10-24 00:56:58.300358\n현재 시간 :  2020년 10월 24일 00시 56분 58초\n"
    }
   ],
   "source": [
    "import datetime \n",
    "\n",
    "# 현재 날짜 생성\n",
    "now = datetime.datetime.now()\n",
    "print('현재 시간 : ', now)\n",
    "\n",
    "now_format = now.strftime('%Y년 %m월 %d일 %H시 %M분 %S초')\n",
    "print('현재 시간 : ', now_format)"
   ]
  },
  {
   "cell_type": "code",
   "execution_count": 13,
   "metadata": {
    "tags": []
   },
   "outputs": [
    {
     "output_type": "stream",
     "name": "stdout",
     "text": "<class 'sqlite3.Cursor'>\n"
    },
    {
     "output_type": "execute_result",
     "data": {
      "text/plain": "<sqlite3.Cursor at 0x10f5b3ab0>"
     },
     "metadata": {},
     "execution_count": 13
    }
   ],
   "source": [
    "import sqlite3\n",
    "\n",
    "# DB 생성 & Auto Commit(isolation_level=None)\n",
    "connect = sqlite3.connect('/Users/amamov/Documents/develop/Pythonic/03_file_handle/database.db', isolation_level=None)\n",
    "\n",
    "# Cursor\n",
    "cursor = connect.cursor()\n",
    "print(type(cursor))\n",
    "\n",
    "# 테이블 생성\n",
    "cursor.execute(\"CREATE TABLE IF NOT EXISTS users(id INTEGER PRIMARY KEY, username TEXT, email TEXT, register TEXT)\")\n",
    "\n",
    "# 접속 해제\n",
    "connect.close()\n"
   ]
  },
  {
   "cell_type": "markdown",
   "metadata": {},
   "source": [
    "## 2. 데이터 삽입"
   ]
  },
  {
   "cell_type": "code",
   "execution_count": 13,
   "metadata": {
    "tags": []
   },
   "outputs": [],
   "source": [
    "import sqlite3\n",
    "import datetime\n",
    "\n",
    "now = datetime.datetime.now().strftime('%Y년 %m월 %d일 %H시 %M분 %S초')\n",
    "\n",
    "connect = sqlite3.connect('/Users/amamov/Documents/develop/Pythonic/03_file_handle/database.db', isolation_level=None)\n",
    "\n",
    "cursor = connect.cursor()\n",
    "\n",
    "cursor.execute(\"CREATE TABLE IF NOT EXISTS users(id INTEGER PRIMARY KEY, username TEXT, email TEXT, regdate TEXT)\")\n",
    "\n",
    "# 데이터 삽입\n",
    "cursor.execute(\"INSERT INTO users VALUES(1, 'joy', 'danny5336@naver.com', ?)\", (now,))\n",
    "cursor.execute(\"INSERT INTO users(id, username, email, regdate) VALUES(?, ?, ?, ?)\", (2, 'amamov', 'danny5336@naver.com', now))\n",
    "\n",
    "# 다량의 데이터 삽입(튜플, 리스트)\n",
    "userlist = (\n",
    "    (3, 'yoon', 'ysangsuk78@gmail.com', now),\n",
    "    (4, 'sang', 'ysangsuk78@gmail.com', now),\n",
    "    (5, 'wow', 'danny5336@gmail.com', now),\n",
    ")\n",
    "\n",
    "cursor.executemany(\"INSERT INTO users(id, username, email, regdate) VALUES(?, ?, ?, ?)\", userlist)\n",
    "\n",
    "# 접속 해제\n",
    "connect.close()"
   ]
  },
  {
   "cell_type": "markdown",
   "metadata": {},
   "source": [
    "## 3. 데이터 삭제"
   ]
  },
  {
   "cell_type": "code",
   "execution_count": 10,
   "metadata": {},
   "outputs": [
    {
     "output_type": "execute_result",
     "data": {
      "text/plain": "<sqlite3.Cursor at 0x10b86ace0>"
     },
     "metadata": {},
     "execution_count": 10
    }
   ],
   "source": [
    "import sqlite3\n",
    "import datetime\n",
    "\n",
    "now = datetime.datetime.now().strftime('%Y년 %m월 %d일 %H시 %M분 %S초')\n",
    "\n",
    "connect = sqlite3.connect('/Users/amamov/Documents/develop/Pythonic/03_file_handle/database.db', isolation_level=None)\n",
    "\n",
    "cursor = connect.cursor()\n",
    "\n",
    "# 데이터 모두 삭제\n",
    "cursor.execute(\"DELETE FROM users\")\n",
    "\n",
    "# 접속 해제\n",
    "connect.close()\n"
   ]
  },
  {
   "cell_type": "code",
   "execution_count": 14,
   "metadata": {
    "tags": []
   },
   "outputs": [
    {
     "output_type": "stream",
     "name": "stdout",
     "text": "users db deleted :  5\n"
    }
   ],
   "source": [
    "import sqlite3\n",
    "import datetime\n",
    "\n",
    "now = datetime.datetime.now().strftime('%Y년 %m월 %d일 %H시 %M분 %S초')\n",
    "\n",
    "connect = sqlite3.connect('/Users/amamov/Documents/develop/Pythonic/03_file_handle/database.db', isolation_level=None)\n",
    "\n",
    "cursor = connect.cursor()\n",
    "\n",
    "# 테이블을 삭제 후 삭제한 row의 개수를 반환\n",
    "print('users db deleted : ', cursor.execute(\"DELETE FROM users\").rowcount)\n",
    "\n",
    "# rollback (참고)\n",
    "# connect.rollback()\n",
    "\n",
    "# 접속 해제\n",
    "connect.close()"
   ]
  },
  {
   "cell_type": "code",
   "execution_count": null,
   "metadata": {},
   "outputs": [],
   "source": []
  }
 ],
 "metadata": {
  "language_info": {
   "codemirror_mode": {
    "name": "ipython",
    "version": 3
   },
   "file_extension": ".py",
   "mimetype": "text/x-python",
   "name": "python",
   "nbconvert_exporter": "python",
   "pygments_lexer": "ipython3",
   "version": "3.8.6-final"
  },
  "orig_nbformat": 2,
  "kernelspec": {
   "name": "python38664bitpythonicpipenv6de764fe9a9949f68e00c05971b5099c",
   "display_name": "Python 3.8.6 64-bit ('Pythonic': pipenv)"
  }
 },
 "nbformat": 4,
 "nbformat_minor": 2
}