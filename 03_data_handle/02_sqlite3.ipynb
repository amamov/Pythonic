{
 "cells": [
  {
   "cell_type": "markdown",
   "metadata": {},
   "source": [
    "# Python sqlite3\n",
    "```\n",
    "Commit : DB에 영구적으로 쓰는 것\n",
    "Rollback : Data가 수정되기 전으로 되돌리는 것 \n",
    "Sqlite3 Data Type : TEXT, NUMERIC, INTEGER, REAL, BLOB \n",
    "```\n",
    "1. DB 생성\n",
    "2. 데이터 삽입\n",
    "3. 데이터 삭제\n",
    "4. 데이터 조회\n",
    "5. 데이터 수정"
   ]
  },
  {
   "cell_type": "markdown",
   "metadata": {},
   "source": [
    "## [1. DB 생성]"
   ]
  },
  {
   "cell_type": "code",
   "execution_count": 1,
   "metadata": {
    "tags": []
   },
   "outputs": [
    {
     "output_type": "stream",
     "name": "stdout",
     "text": "sqlite3.version :  2.6.0\n"
    }
   ],
   "source": [
    "import sqlite3\n",
    "\n",
    "# sqlite3 버전 확인\n",
    "print('sqlite3.version : ', sqlite3.version)"
   ]
  },
  {
   "cell_type": "code",
   "execution_count": 7,
   "metadata": {
    "tags": []
   },
   "outputs": [
    {
     "output_type": "stream",
     "name": "stdout",
     "text": "현재 시간 :  2020-10-24 00:56:58.300358\n현재 시간 :  2020년 10월 24일 00시 56분 58초\n"
    }
   ],
   "source": [
    "import datetime \n",
    "\n",
    "# 현재 날짜 생성\n",
    "now = datetime.datetime.now()\n",
    "print('현재 시간 : ', now)\n",
    "\n",
    "now_format = now.strftime('%Y년 %m월 %d일 %H시 %M분 %S초')\n",
    "print('현재 시간 : ', now_format)"
   ]
  },
  {
   "cell_type": "code",
   "execution_count": 12,
   "metadata": {
    "tags": []
   },
   "outputs": [
    {
     "output_type": "stream",
     "name": "stdout",
     "text": "<class 'sqlite3.Cursor'>\n"
    }
   ],
   "source": [
    "from pathlib import Path\n",
    "import sqlite3\n",
    "\n",
    "# 현재 디렉터리 경로\n",
    "dir_path = str(Path('__file__').resolve().parent)\n",
    "\n",
    "# DB 생성 & Auto Commit(isolation_level=None)\n",
    "connect = sqlite3.connect(dir_path + '/database.db', isolation_level=None)\n",
    "\n",
    "# Cursor\n",
    "cursor = connect.cursor()\n",
    "print(type(cursor))\n",
    "\n",
    "# 테이블 생성\n",
    "cursor.execute(\"CREATE TABLE IF NOT EXISTS users(id INTEGER PRIMARY KEY, username TEXT, email TEXT, register TEXT)\")\n",
    "\n",
    "# 접속 해제\n",
    "connect.close()\n"
   ]
  },
  {
   "cell_type": "markdown",
   "metadata": {},
   "source": [
    "## [2. 데이터 삽입]"
   ]
  },
  {
   "cell_type": "code",
   "execution_count": 35,
   "metadata": {
    "tags": []
   },
   "outputs": [],
   "source": [
    "from pathlib import Path\n",
    "import sqlite3\n",
    "import datetime\n",
    "\n",
    "now = datetime.datetime.now().strftime('%Y년 %m월 %d일 %H시 %M분 %S초')\n",
    "\n",
    "dir_path = str(Path('__file__').resolve().parent)\n",
    "connect = sqlite3.connect(dir_path + '/database.db', isolation_level=None)\n",
    "\n",
    "cursor = connect.cursor()\n",
    "\n",
    "cursor.execute(\"CREATE TABLE IF NOT EXISTS users(id INTEGER PRIMARY KEY, username TEXT, email TEXT, regdate TEXT)\")\n",
    "\n",
    "# 데이터 삽입\n",
    "cursor.execute(\"INSERT INTO users VALUES(1, 'joy', 'danny5336@naver.com', ?)\", (now,))\n",
    "cursor.execute(\"INSERT INTO users(id, username, email, regdate) VALUES(?, ?, ?, ?)\", (2, 'amamov', 'danny5336@naver.com', now))\n",
    "\n",
    "# 다량의 데이터 삽입(튜플, 리스트)\n",
    "userlist = (\n",
    "    (3, 'yoon', 'ysangsuk78@gmail.com', now),\n",
    "    (4, 'sang', 'ysangsuk78@gmail.com', now),\n",
    "    (5, 'wow', 'danny5336@gmail.com', now),\n",
    ")\n",
    "\n",
    "cursor.executemany(\"INSERT INTO users(id, username, email, regdate) VALUES(?, ?, ?, ?)\", userlist)\n",
    "\n",
    "# 접속 해제\n",
    "connect.close()"
   ]
  },
  {
   "cell_type": "markdown",
   "metadata": {},
   "source": [
    "## [3. 데이터 삭제]"
   ]
  },
  {
   "cell_type": "code",
   "execution_count": 34,
   "metadata": {},
   "outputs": [],
   "source": [
    "from pathlib import Path\n",
    "import sqlite3\n",
    "import datetime\n",
    "\n",
    "now = datetime.datetime.now().strftime('%Y년 %m월 %d일 %H시 %M분 %S초')\n",
    "\n",
    "dir_path = str(Path('__file__').resolve().parent)\n",
    "connect = sqlite3.connect(dir_path + '/database.db', isolation_level=None)\n",
    "\n",
    "cursor = connect.cursor()\n",
    "\n",
    "# 데이터 모두 삭제\n",
    "cursor.execute(\"DELETE FROM users\")\n",
    "\n",
    "# 접속 해제\n",
    "connect.close()\n"
   ]
  },
  {
   "cell_type": "code",
   "execution_count": 14,
   "metadata": {
    "tags": []
   },
   "outputs": [
    {
     "output_type": "stream",
     "name": "stdout",
     "text": "users db deleted :  5\n"
    }
   ],
   "source": [
    "from pathlib import Path\n",
    "import sqlite3\n",
    "import datetime\n",
    "\n",
    "now = datetime.datetime.now().strftime('%Y년 %m월 %d일 %H시 %M분 %S초')\n",
    "\n",
    "dir_path = str(Path('__file__').resolve().parent)\n",
    "connect = sqlite3.connect(dir_path + '/database.db', isolation_level=None)\n",
    "\n",
    "cursor = connect.cursor()\n",
    "\n",
    "# 테이블을 삭제 후 삭제한 row의 개수를 반환\n",
    "print('users db deleted : ', cursor.execute(\"DELETE FROM users\").rowcount)\n",
    "\n",
    "# rollback (참고)\n",
    "# connect.rollback()\n",
    "\n",
    "# 접속 해제\n",
    "connect.close()"
   ]
  },
  {
   "cell_type": "code",
   "execution_count": null,
   "metadata": {},
   "outputs": [],
   "source": [
    "from pathlib import Path\n",
    "import sqlite3\n",
    "\n",
    "dir_path = str(Path('__file__').resolve().parent)\n",
    "connect = sqlite3.connect(dir_path + '/database.db', isolation_level=None)\n",
    "cursor = connect.cursor()\n",
    "\n",
    "\n",
    "id_3 = (3,)\n",
    "\n",
    "# 데이터 조건 삭제\n",
    "cursor.execute(\"DELETE FROM users WHERE id=?\", id_3)\n",
    "cursor.execute(\"SELECT * FROM users\")\n",
    "\n",
    "print(cursor.fetchall())"
   ]
  },
  {
   "cell_type": "code",
   "execution_count": 28,
   "metadata": {
    "tags": []
   },
   "outputs": [
    {
     "output_type": "stream",
     "name": "stdout",
     "text": "[(1, 'joy', 'danny5336@naver.com', '2020년 10월 25일 19시 59분 26초'), (2, 'amamov', 'danny5336@naver.com', '2020년 10월 25일 19시 59분 26초'), (4, 'sang', 'ysangsuk78@gmail.com', '2020년 10월 25일 19시 59분 26초')]\n"
    }
   ],
   "source": [
    "from pathlib import Path\n",
    "import sqlite3\n",
    "\n",
    "dir_path = str(Path('__file__').resolve().parent)\n",
    "connect = sqlite3.connect(dir_path + '/database.db', isolation_level=None)\n",
    "cursor = connect.cursor()\n",
    "\n",
    "\n",
    "id_1_5 = (3, 5)\n",
    "\n",
    "# 데이터 조건 삭제\n",
    "cursor.execute(\"DELETE FROM users WHERE id IN(?, ?)\", id_1_5)\n",
    "cursor.execute(\"SELECT * FROM users\")\n",
    "\n",
    "print(cursor.fetchall())"
   ]
  },
  {
   "cell_type": "markdown",
   "metadata": {},
   "source": [
    "## [4. 데이터 조회]"
   ]
  },
  {
   "cell_type": "code",
   "execution_count": 27,
   "metadata": {
    "tags": []
   },
   "outputs": [
    {
     "output_type": "stream",
     "name": "stdout",
     "text": "first_row -> (1, 'joy', 'danny5336@naver.com', '2020년 10월 25일 19시 59분 26초')\nsize_three_row -> [(2, 'amamov', 'danny5336@naver.com', '2020년 10월 25일 19시 59분 26초'), (4, 'sang', 'ysangsuk78@gmail.com', '2020년 10월 25일 19시 59분 26초'), (5, 'wow', 'danny5336@gmail.com', '2020년 10월 25일 19시 59분 26초')]\nall -> []\n"
    }
   ],
   "source": [
    "from pathlib import Path\n",
    "import sqlite3\n",
    "\n",
    "dir_path = str(Path('__file__').resolve().parent)\n",
    "connect = sqlite3.connect(dir_path + '/database.db', isolation_level=None)\n",
    "cursor = connect.cursor()\n",
    "\n",
    "# users의 모든 데이터 조회\n",
    "cursor.execute(\"SELECT * FROM users\")\n",
    "\n",
    "first_row = cursor.fetchone()\n",
    "print('first_row ->', first_row)\n",
    "\n",
    "size_three_row = cursor.fetchmany(size=3)\n",
    "print('size_three_row ->', size_three_row)\n",
    "\n",
    "all_rows = cursor.fetchall()\n",
    "print('all ->', all_rows)\n"
   ]
  },
  {
   "cell_type": "code",
   "execution_count": 22,
   "metadata": {
    "tags": []
   },
   "outputs": [
    {
     "output_type": "stream",
     "name": "stdout",
     "text": "row -> (1, 'joy', 'danny5336@naver.com', '2020년 10월 25일 19시 59분 26초')\nrow -> (2, 'amamov', 'danny5336@naver.com', '2020년 10월 25일 19시 59분 26초')\nrow -> (3, 'yoon', 'ysangsuk78@gmail.com', '2020년 10월 25일 19시 59분 26초')\nrow -> (4, 'sang', 'ysangsuk78@gmail.com', '2020년 10월 25일 19시 59분 26초')\nrow -> (5, 'wow', 'danny5336@gmail.com', '2020년 10월 25일 19시 59분 26초')\n"
    }
   ],
   "source": [
    "from pathlib import Path\n",
    "import sqlite3\n",
    "\n",
    "dir_path = str(Path('__file__').resolve().parent)\n",
    "connect = sqlite3.connect(dir_path + '/database.db', isolation_level=None)\n",
    "cursor = connect.cursor()\n",
    "\n",
    "# users의 모든 데이터 조회\n",
    "cursor.execute(\"SELECT * FROM users\")\n",
    "\n",
    "all_rows = cursor.fetchall()\n",
    "\n",
    "for row in all_rows:\n",
    "    print('row ->', row)"
   ]
  },
  {
   "cell_type": "code",
   "execution_count": 23,
   "metadata": {
    "tags": []
   },
   "outputs": [
    {
     "output_type": "stream",
     "name": "stdout",
     "text": "(3, 'yoon', 'ysangsuk78@gmail.com', '2020년 10월 25일 19시 59분 26초')\n"
    }
   ],
   "source": [
    "from pathlib import Path\n",
    "import sqlite3\n",
    "\n",
    "dir_path = str(Path('__file__').resolve().parent)\n",
    "connect = sqlite3.connect(dir_path + '/database.db', isolation_level=None)\n",
    "cursor = connect.cursor()\n",
    "\n",
    "\n",
    "id_3 = (3,)\n",
    "# 데이터 조건 조회\n",
    "cursor.execute(\"SELECT * FROM users WHERE id=?\", id_3)\n",
    "\n",
    "print(cursor.fetchone())"
   ]
  },
  {
   "cell_type": "code",
   "execution_count": 26,
   "metadata": {
    "tags": []
   },
   "outputs": [
    {
     "output_type": "stream",
     "name": "stdout",
     "text": "[(1, 'joy', 'danny5336@naver.com', '2020년 10월 25일 19시 59분 26초'), (5, 'wow', 'danny5336@gmail.com', '2020년 10월 25일 19시 59분 26초')]\n"
    }
   ],
   "source": [
    "from pathlib import Path\n",
    "import sqlite3\n",
    "\n",
    "dir_path = str(Path('__file__').resolve().parent)\n",
    "connect = sqlite3.connect(dir_path + '/database.db', isolation_level=None)\n",
    "cursor = connect.cursor()\n",
    "\n",
    "\n",
    "id_1_5 = (1, 5)\n",
    "# 데이터 조건 조회\n",
    "cursor.execute(\"SELECT * FROM users WHERE id IN(?, ?)\", id_1_5)\n",
    "\n",
    "print(cursor.fetchall())"
   ]
  },
  {
   "cell_type": "markdown",
   "metadata": {},
   "source": [
    "## [Dump 출력]"
   ]
  },
  {
   "cell_type": "code",
   "execution_count": 32,
   "metadata": {
    "tags": []
   },
   "outputs": [
    {
     "output_type": "stream",
     "name": "stdout",
     "text": "Dump Print Complete!\n"
    }
   ],
   "source": [
    "from pathlib import Path\n",
    "import sqlite3\n",
    "\n",
    "dir_path = str(Path('__file__').resolve().parent)\n",
    "connect = sqlite3.connect(dir_path + '/database.db', isolation_level=None)\n",
    "cursor = connect.cursor()\n",
    "\n",
    "with connect:\n",
    "    with open(dir_path + '/test_files/dump.sql', 'w') as file:\n",
    "        for line in connect.iterdump():\n",
    "            file.write('%s\\n' % line)\n",
    "        print('Dump Print Complete!')\n"
   ]
  },
  {
   "cell_type": "markdown",
   "metadata": {},
   "source": [
    "## [5. 데이터 수정]"
   ]
  },
  {
   "cell_type": "code",
   "execution_count": 39,
   "metadata": {
    "tags": []
   },
   "outputs": [
    {
     "output_type": "stream",
     "name": "stdout",
     "text": "[(1, 'joy', 'danny5336@naver.com', '2020년 10월 25일 20시 37분 55초'), (2, 'joyjoy', 'danny5336@naver.com', '2020년 10월 25일 20시 37분 55초'), (3, 'yoon', 'ysangsuk78@gmail.com', '2020년 10월 25일 20시 37분 55초'), (4, 'sang', 'ysangsuk78@gmail.com', '2020년 10월 25일 20시 37분 55초'), (5, 'wow', 'danny5336@gmail.com', '2020년 10월 25일 20시 37분 55초')]\n"
    }
   ],
   "source": [
    "from pathlib import Path\n",
    "import sqlite3\n",
    "\n",
    "dir_path = str(Path('__file__').resolve().parent)\n",
    "connect = sqlite3.connect(dir_path + '/database.db', isolation_level=None)\n",
    "cursor = connect.cursor()\n",
    "\n",
    "cursor.execute(\"UPDATE users SET username = ? WHERE id = ?\", ('joyjoy', 2))\n",
    "cursor.execute(\"SELECT * FROM users\")\n",
    "\n",
    "print(cursor.fetchall())"
   ]
  },
  {
   "cell_type": "code",
   "execution_count": null,
   "metadata": {},
   "outputs": [],
   "source": []
  }
 ],
 "metadata": {
  "language_info": {
   "codemirror_mode": {
    "name": "ipython",
    "version": 3
   },
   "file_extension": ".py",
   "mimetype": "text/x-python",
   "name": "python",
   "nbconvert_exporter": "python",
   "pygments_lexer": "ipython3",
   "version": "3.8.6-final"
  },
  "orig_nbformat": 2,
  "kernelspec": {
   "name": "python38664bitpythonicpipenv6de764fe9a9949f68e00c05971b5099c",
   "display_name": "Python 3.8.6 64-bit ('Pythonic': pipenv)"
  }
 },
 "nbformat": 4,
 "nbformat_minor": 2
}