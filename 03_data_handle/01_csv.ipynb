{
 "cells": [
  {
   "cell_type": "markdown",
   "metadata": {},
   "source": [
    "## python CSV 파일 읽기 및 쓰기\n",
    "```\n",
    "CSV : MINE 형식 : text/csv\n",
    "```"
   ]
  },
  {
   "cell_type": "code",
   "execution_count": 8,
   "metadata": {
    "tags": []
   },
   "outputs": [
    {
     "output_type": "stream",
     "name": "stdout",
     "text": "<_csv.reader object at 0x10d8cf900>\n<class '_csv.reader'>\n['__class__', '__delattr__', '__dir__', '__doc__', '__eq__', '__format__', '__ge__', '__getattribute__', '__gt__', '__hash__', '__init__', '__init_subclass__', '__iter__', '__le__', '__lt__', '__ne__', '__new__', '__next__', '__reduce__', '__reduce_ex__', '__repr__', '__setattr__', '__sizeof__', '__str__', '__subclasshook__', 'dialect', 'line_num']\n['이름', ' 나이', ' 성별']\n['joy', ' 23', ' 여']\n"
    }
   ],
   "source": [
    "import csv\n",
    "\n",
    "with open(\"./test_files/test1.csv\", \"r\") as f:\n",
    "    reader = csv.reader(f)\n",
    "\n",
    "    next(reader) # 첫번쨰 row를 스킵!\n",
    "\n",
    "    print(reader)\n",
    "    print(type(reader))\n",
    "    print(dir(reader)) # '__iter__' 메소드가 들어가 있다 -> iterable 객체이다!\n",
    "\n",
    "    for c in reader:\n",
    "        print(c)"
   ]
  },
  {
   "cell_type": "code",
   "execution_count": 13,
   "metadata": {
    "tags": []
   },
   "outputs": [
    {
     "output_type": "stream",
     "name": "stdout",
     "text": "['번호', '이름', '나이', '성별']\n['1', 'joy', '23', '여']\n['2', 'snagseok', '23', '남']\n['3', 'jenny', '23', '여']\n"
    }
   ],
   "source": [
    "import csv\n",
    "\n",
    "with open('./test_files/test2.csv', 'r') as f:\n",
    "    reader = csv.reader(f, delimiter=\"|\")\n",
    "\n",
    "    for c in reader:\n",
    "        print(c) \n",
    "\n",
    "# test2 형식 같은 경우 , 로 구분이 안되어 있다. csv.reader의 두 번째 인자로 delimiter설정을 해줄 수 있다.\n",
    "# delimit의 뜻은 구분하다 라는 의미이다. splite() 함수 와 동일한 개념이다."
   ]
  },
  {
   "cell_type": "code",
   "execution_count": 16,
   "metadata": {
    "tags": []
   },
   "outputs": [
    {
     "output_type": "stream",
     "name": "stdout",
     "text": "{'이름': 'joy', ' 나이': ' 23', ' 성별': ' 여'}\n이름 : joy\n 나이 :  23\n 성별 :  여\n{'이름': 'sangseok', ' 나이': ' 23', ' 성별': ' 남'}\n이름 : sangseok\n 나이 :  23\n 성별 :  남\n"
    }
   ],
   "source": [
    "## Dictionary 형태로 변환\n",
    "import csv\n",
    "\n",
    "with open('./test_files/test1.csv', 'r') as f:\n",
    "    reader = csv.DictReader(f)\n",
    "\n",
    "    for c in reader:\n",
    "        print(c)\n",
    "        for key, value in c.items():\n",
    "            print(f'{key} : {value}')"
   ]
  },
  {
   "cell_type": "code",
   "execution_count": 19,
   "metadata": {},
   "outputs": [],
   "source": [
    "import csv\n",
    "\n",
    "data = [[1, 2, 3], [4, 5, 6], [7, 8, 9], [10, 11, 12]]\n",
    "\n",
    "# newline='' : 새로운 라인일때 어떻게 처리할지\n",
    "with open('./test_files/test3.csv', 'w', newline='') as f:\n",
    "    writer = csv.writer(f)\n",
    "    \n",
    "    for value in data:\n",
    "        writer.writerow(value)"
   ]
  }
 ],
 "metadata": {
  "language_info": {
   "codemirror_mode": {
    "name": "ipython",
    "version": 3
   },
   "file_extension": ".py",
   "mimetype": "text/x-python",
   "name": "python",
   "nbconvert_exporter": "python",
   "pygments_lexer": "ipython3",
   "version": "3.8.6-final"
  },
  "orig_nbformat": 2,
  "kernelspec": {
   "name": "python38664bitpythonicpipenv6de764fe9a9949f68e00c05971b5099c",
   "display_name": "Python 3.8.6 64-bit ('Pythonic': pipenv)"
  }
 },
 "nbformat": 4,
 "nbformat_minor": 2
}