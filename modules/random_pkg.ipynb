{
 "cells": [
  {
   "cell_type": "markdown",
   "metadata": {},
   "source": [
    "# Python import random"
   ]
  },
  {
   "cell_type": "code",
   "execution_count": 10,
   "metadata": {
    "tags": []
   },
   "outputs": [
    {
     "output_type": "stream",
     "name": "stdout",
     "text": "[1, 2, 3, 5, 6, 8, 4, 7]\n7\n[1, 8, 7]\n"
    }
   ],
   "source": [
    "import random\n",
    "\n",
    "my_list = [1, 2, 3, 4, 5, 6, 7, 8]\n",
    "\n",
    "random.shuffle(my_list)\n",
    "print(my_list)\n",
    "\n",
    "random_element = random.choice(my_list)\n",
    "print(random_element)\n",
    "\n",
    "# 샘플링\n",
    "sample = random.sample(my_list, 3)\n",
    "print(sample)"
   ]
  },
  {
   "cell_type": "code",
   "execution_count": 8,
   "metadata": {
    "tags": []
   },
   "outputs": [
    {
     "output_type": "stream",
     "name": "stdout",
     "text": "40\n0.9584556724455644\n"
    }
   ],
   "source": [
    "import random \n",
    "\n",
    "# 1부터 100사이의 임의의 정수\n",
    "number = random.randint(1, 100)\n",
    "print(number)\n",
    "\n",
    "# 0부터 1사이의 임의의 float\n",
    "number_float = random.random()\n",
    "print(number_float)"
   ]
  },
  {
   "cell_type": "code",
   "execution_count": null,
   "metadata": {},
   "outputs": [],
   "source": []
  }
 ],
 "metadata": {
  "language_info": {
   "codemirror_mode": {
    "name": "ipython",
    "version": 3
   },
   "file_extension": ".py",
   "mimetype": "text/x-python",
   "name": "python",
   "nbconvert_exporter": "python",
   "pygments_lexer": "ipython3",
   "version": "3.8.6-final"
  },
  "orig_nbformat": 2,
  "kernelspec": {
   "name": "python38664bitpythonicpipenv6de764fe9a9949f68e00c05971b5099c",
   "display_name": "Python 3.8.6 64-bit ('Pythonic': pipenv)"
  }
 },
 "nbformat": 4,
 "nbformat_minor": 2
}