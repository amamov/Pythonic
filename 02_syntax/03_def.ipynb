{
 "cells": [
  {
   "cell_type": "markdown",
   "metadata": {},
   "source": [
    "# Python function"
   ]
  },
  {
   "cell_type": "markdown",
   "metadata": {},
   "source": [
    "## [Intro]\n",
    "### 1. 함수의 선언 위치는 함수 호출보다 선행되어야 한다.\n",
    "### 2. 함수 또한 객체이므로 변수에 저장, 함수에 인자로 함수 전달 등이 가능하다.\n",
    "\n",
    "### 3. Lambda식 표현 : 메모리 절약, 가독성 향상, 코드 간결 --> 일반적인 함수는 객체 생성을 한다.(메모리 할당) But Lambda는 즉시 실행된다.(Heap 초기화; 메모리 초기화)\n",
    "\n",
    "## [전역변수 & 지역변수]\n",
    "\n",
    "### - 지역변수(Local variable)은 함수 안에서 정의 되는 변수이고 전역변수(Global variable)는 함수 밖에서 정의 되는 변수이다.\n",
    "\n",
    "### - 지역변수는 그 변수가 정의된 함수 안에서만 사용할 수 있다. 함수가 실행될 때마다 새로 만들어지고, 함수의 실행이 종료되면 삭제된다. \n",
    "\n",
    "### - 파이썬에서 전역변수는 함수 안에서 읽을 수는 있지만 수정이 불가능하다.\n",
    "\n",
    "### - 함수 안에서 전역변수를 수정할 수 없지만 global 문을 이용하면 전역변수를 함수 안에서 수정할 수 있다."
   ]
  },
  {
   "cell_type": "markdown",
   "metadata": {},
   "source": [
    "## [How Use ?]"
   ]
  },
  {
   "cell_type": "code",
   "execution_count": 2,
   "metadata": {
    "tags": []
   },
   "outputs": [
    {
     "output_type": "stream",
     "name": "stdout",
     "text": "arg1 :  1\narg2 :  2\nargs :  (3, 4, 5, 6, 7, 8, 9)\nargs type :  <class 'tuple'>\nkwargs :  {'what': False, 'why': True, 'Hello': 'Hello world!'}\nkwargs :  <class 'dict'>\n"
    },
    {
     "output_type": "execute_result",
     "data": {
      "text/plain": "3"
     },
     "metadata": {},
     "execution_count": 2
    }
   ],
   "source": [
    "def function(arg1, arg2, *args, **kwargs):\n",
    "    print(\"arg1 : \", arg1)\n",
    "    print(\"arg2 : \", arg2)\n",
    "\n",
    "    print(\"args : \", args)\n",
    "    print(\"args type : \", type(args))\n",
    "\n",
    "    print(\"kwargs : \", kwargs)\n",
    "    print(\"kwargs : \", type(kwargs))\n",
    "    return arg1 + arg2\n",
    "\n",
    "\n",
    "function(1, 2, 3, 4, 5, 6, 7, 8, 9, what=False, why=True, Hello=\"Hello world!\")"
   ]
  },
  {
   "cell_type": "markdown",
   "metadata": {},
   "source": [
    "## [Point 1. 단일 파라미터는 다중 파라미터보다 먼저 와야한다.]"
   ]
  },
  {
   "cell_type": "code",
   "execution_count": 3,
   "metadata": {
    "tags": []
   },
   "outputs": [
    {
     "output_type": "stream",
     "name": "stdout",
     "text": "55\n"
    }
   ],
   "source": [
    "def plus(number1, *number):\n",
    "    return number1 + sum(number)\n",
    "\n",
    "\n",
    "print(plus(1, 2, 3, 4, 5, 6, 7, 8, 9, 10))"
   ]
  },
  {
   "cell_type": "markdown",
   "metadata": {},
   "source": [
    "## [Point 2. 초기값을 미리 설정할 수 있다.]"
   ]
  },
  {
   "cell_type": "code",
   "execution_count": 6,
   "metadata": {
    "tags": []
   },
   "outputs": [
    {
     "output_type": "stream",
     "name": "stdout",
     "text": "arg1 : 1, arg2 : 3, x : 5, y : 200\narg1 : 1, arg2 : 3, x : 100, y : 200\narg1 : 1, arg2 : 3, x : 4, y : 5\n"
    }
   ],
   "source": [
    "def default_func(arg1, arg2, x=100, y=200):\n",
    "    print(\"arg1 :\", arg1, end=\", \")\n",
    "    print(\"arg2 :\", arg2, end=\", \")\n",
    "    print(\"x :\", x, end=\", \")\n",
    "    print(\"y :\", y)\n",
    "\n",
    "\n",
    "default_func(1, 3, 5)\n",
    "default_func(1, 3)\n",
    "default_func(1, 3, y=5, x=4)\n"
   ]
  },
  {
   "cell_type": "markdown",
   "metadata": {},
   "source": [
    "## [Point 3. 중첩함수(클로저) : 함수 안에 함수]"
   ]
  },
  {
   "cell_type": "code",
   "execution_count": 7,
   "metadata": {
    "tags": []
   },
   "outputs": [
    {
     "output_type": "stream",
     "name": "stdout",
     "text": "in nested_func\n>>  200\n"
    }
   ],
   "source": [
    "def nested_func(arg):\n",
    "    def func_in_func(arg):\n",
    "        print(\">> \", arg)\n",
    "\n",
    "    print(\"in nested_func\")\n",
    "    func_in_func(arg + 100)\n",
    "\n",
    "\n",
    "nested_func(100)  # 200"
   ]
  },
  {
   "cell_type": "markdown",
   "metadata": {},
   "source": [
    "## [Point 4. Hint]"
   ]
  },
  {
   "cell_type": "code",
   "execution_count": 8,
   "metadata": {
    "tags": []
   },
   "outputs": [
    {
     "output_type": "stream",
     "name": "stdout",
     "text": "['H', 'e', 'l', 'l', 'o', 'H', 'e', 'l', 'l', 'o', 'H', 'e', 'l', 'l', 'o']\n"
    }
   ],
   "source": [
    "def print_hello_world(hello: str, count: int) -> list:\n",
    "    return list(hello * count)\n",
    "\n",
    "\n",
    "print(print_hello_world(\"Hello\", 3))"
   ]
  },
  {
   "cell_type": "markdown",
   "metadata": {},
   "source": [
    "## [Point 5. Lambda식 표현]"
   ]
  },
  {
   "cell_type": "markdown",
   "metadata": {},
   "source": [
    "```\n",
    "일반적인 함수\n",
    "```"
   ]
  },
  {
   "cell_type": "code",
   "execution_count": 11,
   "metadata": {
    "tags": []
   },
   "outputs": [
    {
     "output_type": "stream",
     "name": "stdout",
     "text": "<function mul_10 at 0x10b3e5f70>\n4483604336\n<class 'function'>\n"
    }
   ],
   "source": [
    "def mul_10(num: int) -> int:\n",
    "    return num * 10\n",
    "\n",
    "\n",
    "var_func = mul_10\n",
    "\n",
    "print(var_func)\n",
    "# <function mul_10 at 0x7fed96ec15f0> : 함수의 객체가 생성되어 메모리에 할당되었다.\n",
    "print(id(var_func))\n",
    "# 4483604336\n",
    "print(type(var_func))\n",
    "# <class 'function'>"
   ]
  },
  {
   "cell_type": "markdown",
   "metadata": {},
   "source": [
    "```\n",
    "Lambda 함수\n",
    "```"
   ]
  },
  {
   "cell_type": "code",
   "execution_count": 12,
   "metadata": {
    "tags": []
   },
   "outputs": [
    {
     "output_type": "stream",
     "name": "stdout",
     "text": "<function <lambda> at 0x10b3e5e50>\n100\n"
    }
   ],
   "source": [
    "lambda_mul_10 = lambda num: num * 10\n",
    "\n",
    "print(lambda_mul_10)\n",
    "# <function <lambda> at 0x7f876258e3b0>\n",
    "\n",
    "print(lambda_mul_10(10))\n",
    "# 100"
   ]
  }
 ],
 "metadata": {
  "language_info": {
   "codemirror_mode": {
    "name": "ipython",
    "version": 3
   },
   "file_extension": ".py",
   "mimetype": "text/x-python",
   "name": "python",
   "nbconvert_exporter": "python",
   "pygments_lexer": "ipython3",
   "version": "3.8.6-final"
  },
  "orig_nbformat": 2,
  "kernelspec": {
   "name": "python38664bitpythonicpipenv6de764fe9a9949f68e00c05971b5099c",
   "display_name": "Python 3.8.6 64-bit ('Pythonic': pipenv)"
  }
 },
 "nbformat": 4,
 "nbformat_minor": 2
}