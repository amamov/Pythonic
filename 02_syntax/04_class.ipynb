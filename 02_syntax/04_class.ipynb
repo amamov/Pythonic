{
 "cells": [
  {
   "cell_type": "markdown",
   "metadata": {},
   "source": [
    "# Python class\n",
    "```\n",
    "1. 클래스와 인스턴스\n",
    "2. self의 이해\n",
    "3. 상속\n",
    "4. 오버라이딩 & super()\n",
    "5. 다중상속\n",
    "```"
   ]
  },
  {
   "cell_type": "markdown",
   "metadata": {},
   "source": [
    "## [Intro]\n",
    "\n",
    "### 클래스 : 객체를 만들기 위한 설계도\n",
    "\n",
    "### 인스턴스 : 클래스로 인스턴스화 하여 만든 대상 (객체)\n",
    "\n",
    "### 객체 : 클래스를 기반으로 만들어진 실제 사물 (클래스의 인스턴스)\n",
    "\n",
    "### 클래스 변수 : 클래스 내부에 선언된 변수, 인스턴스보다 먼저 생성된다. 클래스 네임스페이스에 저장된다.\n",
    "\n",
    "### 인스턴스 변수 : 인스턴스마다 독립적으로 인스턴스의 네임스페이스에 존재하고 인스턴스 생성 후 사용한다.\n",
    "\n",
    "```\n",
    "클래스로 인스턴스화 시켜서 인스턴스(객체)를 만든다. 인스턴스들은 서로 독립적인 네임스페이스라는 창고를 이용해서 그 안에 값을 저장한다.\n",
    "\n",
    "MyClass.__dict__ --> 클래스의 내임스페이스를 보여준다.\n",
    "MyClass.mro() --> 클래스의 상속관계를 보여준다.\n",
    "```"
   ]
  },
  {
   "cell_type": "markdown",
   "metadata": {},
   "source": [
    "## What is the 'namespace' ?\n",
    "\n",
    "네임스페이스(namespace, 이름공간)란 프로그래밍 언어에서 특정한 객체(Object)를 이름(Name)에 따라 구분할 수 있는 범위를 의미한다. 파이썬 내부의 모든것은 객체로 구성되며 이들 각각은 특정 이름과의 매핑 관계를 갖게 되는데 이 매핑을 포함하고 있는 공간을 네임스페이스라고 한다.\n"
   ]
  },
  {
   "cell_type": "markdown",
   "metadata": {},
   "source": [
    "## [How Use ?]"
   ]
  },
  {
   "cell_type": "code",
   "execution_count": 1,
   "metadata": {
    "tags": []
   },
   "outputs": [
    {
     "output_type": "stream",
     "name": "stdout",
     "text": "user1.name: joy\nuser2.name: amamov\nName :  joy\nName :  amamov\n4395770064\n4395771408\nuser1의 네임스페이스: {'name': 'joy'}\nuser2의 네임스페이스: {'name': 'amamov'}\nTrue\n"
    }
   ],
   "source": [
    "## 클래스 선언\n",
    "class UserInfo:\n",
    "    \n",
    "    '''\n",
    "    UserInfo Class\n",
    "    Author : amamov\n",
    "    Date : 2020.11.13\n",
    "    '''\n",
    "    \n",
    "    def __init__(self, name): # 생성자\n",
    "        ## 인스턴스 변수\n",
    "        self.name = name\n",
    "\n",
    "    ## 인스턴스 메서드\n",
    "    def user_info_print(self):\n",
    "        print(\"Name : \", self.name)\n",
    "\n",
    "## 인스턴스 생성 & 인스턴스 변수를 네임스페이스에 저장\n",
    "user1 = UserInfo(\"joy\")\n",
    "user2 = UserInfo(\"amamov\")\n",
    "\n",
    "## 인스턴스 변수 호출\n",
    "print('user1.name:', user1.name)\n",
    "print('user2.name:', user2.name)\n",
    "\n",
    "## 인스턴스 메서드 호출\n",
    "user1.user_info_print()\n",
    "user2.user_info_print()\n",
    "\n",
    "## 하나의 클래스에서 생성된 각각의 인스턴스들은 서로 독립적이다.\n",
    "print(id(user1))\n",
    "print(id(user2))\n",
    "\n",
    "print('user1의 네임스페이스:', user1.__dict__)\n",
    "print('user2의 네임스페이스:', user2.__dict__)\n",
    "\n",
    "## 인스턴스 확인\n",
    "print(isinstance(user1, UserInfo))"
   ]
  },
  {
   "cell_type": "code",
   "execution_count": 2,
   "metadata": {
    "tags": []
   },
   "outputs": [
    {
     "output_type": "stream",
     "name": "stdout",
     "text": "Current Id : 4400065216\nStudent Detail Info : Yoon 2 10 {'gender': 'Male', 'score1': 65, 'score2': 44}\n4400065216 None\n<class '__main__.Student'>\nCurrent Id : 4400065216\nStudent Detail Info : Yoon 2 10 {'gender': 'Male', 'score1': 65, 'score2': 44}\n"
    },
    {
     "output_type": "execute_result",
     "data": {
      "text/plain": "' \\n인스턴스 변수의 직접적인 접근을 권장하지 않는다.(PEP) -> 캡슐화를 시켜놓아야 한다. (은닉)\\n클래스 안의 인스턴스 메서드로 인스턴스 변수를 수정을 하는 것이 좋다.\\n'"
     },
     "metadata": {},
     "execution_count": 2
    }
   ],
   "source": [
    "class Student:\n",
    "\n",
    "    \"\"\"\n",
    "    [Student Class]\n",
    "    Author : amamov\n",
    "    Date : 2020.11.13\n",
    "    \"\"\"\n",
    "\n",
    "    ## 클래스 변수 (모두가 공유한다.)\n",
    "    student_count = 0\n",
    "\n",
    "    def __init__(self, name, number, grade, details, email=None):\n",
    "        ## __init__ : 생성자 객체 생성 시 자동으로 호출되는 메서드이다. \n",
    "        \n",
    "        self.name = name # 인스턴스 변수\n",
    "        self.number = number # 인스턴스 변수\n",
    "        self.grade = grade # 인스턴스 변수\n",
    "        self.details = details # 인스턴스 변수\n",
    "        self.email = email # 인스턴스 변수\n",
    "\n",
    "        # 인스턴스가 생성될때 마다 증가한다.(클래스 변수 핸들링)\n",
    "        Student.student_count += 1\n",
    "\n",
    "    def __str__(self):\n",
    "        # str 함수가 호출되었을 때 호출된다. (객체를 문자열화 하는데에 초점이 맞춰져 있다.)\n",
    "        return f\"str : {self.name}\"\n",
    "\n",
    "    def __repr__(self):\n",
    "        # __repr__ : 객체를 인간이 이해할 수 있는 평문으로 ‘표현’한다. (객체를 표현하는데에 초점이 맞춰져 있다.)\n",
    "        return f\"repr : {self.name}\"\n",
    "\n",
    "    def detail_info(self):\n",
    "        print(f\"Current Id : {id(self)}\")\n",
    "        print(\n",
    "            f\"Student Detail Info : {self.name} {self.number} {self.grade} {self.details}\"\n",
    "        )\n",
    "\n",
    "    def __del__(self):  ## 소멸자\n",
    "        Student.student_count -= 1\n",
    "    \n",
    "    def __call__(self):\n",
    "        # 인스턴스가 호출가능하도록 해준다. (callable)\n",
    "        return self.detail_info()\n",
    "\n",
    "student1 = Student(\n",
    "    name=\"Yoon\",\n",
    "    number=2,\n",
    "    grade=10,\n",
    "    details={\"gender\": \"Male\", \"score1\": 65, \"score2\": 44},\n",
    "    email=\"danny5336@naver.com\",\n",
    ")\n",
    "\n",
    "student2 = Student(\n",
    "    name=\"Joy\",\n",
    "    number=4,\n",
    "    grade=1,\n",
    "    details={\"gender\": \"Female\", \"score1\": 85, \"score2\": 74},\n",
    ")\n",
    "\n",
    "print(id(student1), student1.detail_info())\n",
    "print(student1.__class__)\n",
    "\n",
    "student1() # __call__ 으로 callaable 객체가 되었다.\n",
    "\n",
    "# //* dir() : 모든 속성 값을 알 수 있다.\n",
    "# //* __dict__ : 네임스페이스를 확인할 수 있다.\n",
    "# //* __doc__ : class의 주석을 확인한다.\n",
    "# //* __class__ : 어떤 클래스로 만들어진 인스턴스인지 확인할 수 있다.\n",
    "\n",
    "\"\"\" \n",
    "인스턴스 변수의 직접적인 접근을 권장하지 않는다.(PEP) -> 캡슐화를 시켜놓아야 한다. (은닉)\n",
    "클래스 안의 인스턴스 메서드로 인스턴스 변수를 수정을 하는 것이 좋다.\n",
    "\"\"\""
   ]
  },
  {
   "cell_type": "markdown",
   "metadata": {},
   "source": [
    "\n",
    "## [self의 이해 --> self는 인스턴스 객체이다!!]\n",
    "### 클래스 안에 있는 self의 주소와 만들어진 인스턴스의 주소는 같다! 즉, self는 인스턴스 그 자체이다!\n",
    "```\n",
    "인스턴스를 통해 변수에 접근하면 파이썬은 먼저 인스턴스의 네임스페이스에서 해당 변수가 존재하는지 찾는다. \n",
    "해당 변수가 네임스페이스에 존재하지 않으면 클래스의 네임스페이스로 가서 다시 변수를 찾게 된다.\n",
    "```"
   ]
  },
  {
   "cell_type": "code",
   "execution_count": 8,
   "metadata": {
    "tags": []
   },
   "outputs": [
    {
     "name": "stdout",
     "output_type": "stream",
     "text": [
      "클래스의 네임스페이스: {'__module__': '__main__', 'name': 'amamov', 'function1': <classmethod object at 0x10332c5e0>, 'function2': <function SelfTest.function2 at 0x1033c1310>, '__dict__': <attribute '__dict__' of 'SelfTest' objects>, '__weakref__': <attribute '__weakref__' of 'SelfTest' objects>, '__doc__': None}\n",
      "인스턴스의 네임스페이스 {}\n",
      "amamov\n",
      "amamov\n",
      "cls : <class '__main__.SelfTest'>\n",
      "function 1 called !\n",
      "function 2 called !\n",
      "class안의 self의 주소: 4348625440\n",
      "인스턴스의 주소: 4348625440\n"
     ]
    }
   ],
   "source": [
    "class SelfTest:\n",
    "\n",
    "    ## 클래스 변수\n",
    "    name = \"amamov\"\n",
    "\n",
    "    ## 클래스 메서드\n",
    "    @classmethod\n",
    "    def function1(cls):\n",
    "        print(f'cls : {cls}')\n",
    "        print(\"function 1 called !\")\n",
    "\n",
    "    ## 인스턴스 메서드\n",
    "    def function2(self):\n",
    "        print(\"function 2 called !\")\n",
    "\n",
    "        print('class안의 self의 주소:', id(self))\n",
    "\n",
    "\n",
    "test_instance = SelfTest()\n",
    "\n",
    "## 클래스 변수는 클래스의 네임스페이스에 저장된다.\n",
    "print('클래스의 네임스페이스:', SelfTest.__dict__)\n",
    "print('인스턴스의 네임스페이스', test_instance.__dict__)\n",
    "\n",
    "print(SelfTest.name)\n",
    "print(test_instance.name)\n",
    "\n",
    "## 클레스 메서드는 인스턴스에서 호출 불가능\n",
    "# self_instance.function1() # error\n",
    "\n",
    "SelfTest.function1()\n",
    "# function 1 called !\n",
    "\n",
    "test_instance.function2()\n",
    "# function 2 called !\n",
    "\n",
    "print('인스턴스의 주소:', id(test_instance))"
   ]
  },
  {
   "cell_type": "code",
   "execution_count": 9,
   "metadata": {},
   "outputs": [
    {
     "name": "stdout",
     "output_type": "stream",
     "text": [
      "Greetings, my masters call me R2-D2.\n",
      "Greetings, my masters call me amamov.\n",
      "True\n",
      "True\n",
      "\n",
      "Robots can do some work here.\n",
      "\n",
      "Robots have finished their work. So let's destroy them.\n",
      "R2-D2 is being destroyed!\n",
      "There are still 1 robots working.\n",
      "amamov is being destroyed!\n",
      "amamov was the last one.\n"
     ]
    }
   ],
   "source": [
    "class Robot:\n",
    "\n",
    "    \"\"\"\n",
    "    Robot Class\n",
    "    Date : ??:??:??\n",
    "    \"\"\"\n",
    "\n",
    "    # Class Variable\n",
    "    population = 0\n",
    "\n",
    "    def __init__(self, name):  # 생성자\n",
    "        self.name = name  # Instanse Variable\n",
    "        Robot.population += 1\n",
    "\n",
    "    # Instance Method\n",
    "    def die(self):\n",
    "        print(f\"{self.name} is being destroyed!\")\n",
    "        Robot.population -= 1\n",
    "        if Robot.population == 0:\n",
    "            print(f\"{self.name} was the last one.\")\n",
    "        else:\n",
    "            print(f\"There are still {Robot.population} robots working.\")\n",
    "\n",
    "    def say_hi(self):\n",
    "        print(f\"Greetings, my masters call me {self.name}.\")\n",
    "\n",
    "    @classmethod\n",
    "    def how_many(cls):\n",
    "        return f\"We have {cls.population} robots.\"\n",
    "\n",
    "    @staticmethod\n",
    "    def is_name_amamov(ins):\n",
    "        if ins.name == \"amamov\":\n",
    "            return True\n",
    "        else:\n",
    "            return False\n",
    "\n",
    "\n",
    "droid1 = Robot(\"R2-D2\")\n",
    "droid1.say_hi()\n",
    "\n",
    "Robot.how_many()  # Call class method\n",
    "\n",
    "droid2 = Robot(\"amamov\")\n",
    "droid2.say_hi()\n",
    "print(Robot.is_name_amamov(droid2))  # 패턴 1\n",
    "print(droid2.is_name_amamov(droid2))  # 패턴 2\n",
    "\n",
    "Robot.how_many()\n",
    "\n",
    "print(\"\\nRobots can do some work here.\\n\")\n",
    "print(\"Robots have finished their work. So let's destroy them.\")\n",
    "droid1.die()\n",
    "Robot.how_many()\n",
    "droid2.die()"
   ]
  },
  {
   "cell_type": "markdown",
   "metadata": {},
   "source": [
    "## [상속]\n",
    "\n",
    "- Python의 모든 클래스는 object 클레스를 직접 혹은 간접 상속한다.\n",
    "- Super 클래스를 Sub 클래스가 상속받았을 때 Super 클래스를 부모 클래스(슈퍼 클래스)라고 하고 Sub 클래스를 자식 클래스(서브 클래스)라고 정의한다.\n",
    "\n",
    "- 부모 클래스가 갖는 모든 메서드와 속성이 자식 클래스에도 담긴다.\n",
    "\n",
    "- 자식 클래스에는 별도의 메서드를 추가할 수 있다.\n",
    "\n",
    "- 관련 함수 : MyClass.mro() --> 상속 관계를 보여준다."
   ]
  },
  {
   "cell_type": "code",
   "execution_count": 9,
   "metadata": {
    "tags": []
   },
   "outputs": [
    {
     "name": "stdout",
     "output_type": "stream",
     "text": [
      "23\n",
      "white\n",
      "달리는 능력\n",
      "점프하는 능력\n",
      "상속 받은 인스턴스 변수 :  white\n",
      "상속 받은 클래스 변수 :  23\n"
     ]
    }
   ],
   "source": [
    "class Mother:\n",
    "    age = 23\n",
    "\n",
    "    def __init__(self, color):\n",
    "        self.color = color\n",
    "\n",
    "    def run(self):\n",
    "        print(\"달리는 능력\")\n",
    "\n",
    "\n",
    "## Son 클래스가 Mother 클래스를 상속받았다.\n",
    "class Son(Mother):\n",
    "    \n",
    "    def jump(self):\n",
    "        print(\"점프하는 능력\")\n",
    "        print(\"상속 받은 인스턴스 변수 : \", self.color)\n",
    "\n",
    "        ## 클래스 변수는 인스턴스의 네임스페이스에는 존재하지 않는다.\n",
    "        print(\"상속 받은 클래스 변수 : \", self.age)\n",
    "\n",
    "\n",
    "son1 = Son(\"white\")\n",
    "\n",
    "print(son1.age)\n",
    "# 23 (상속)\n",
    "\n",
    "print(son1.color)\n",
    "# white (상속)\n",
    "\n",
    "son1.run()\n",
    "# 달리는 능력 (상속)\n",
    "\n",
    "son1.jump()\n",
    "# 점프하는 능력"
   ]
  },
  {
   "cell_type": "markdown",
   "metadata": {},
   "source": [
    "## [메서드 오버라이딩]\n",
    "\n",
    "- 부모 클래스가 갖는 메서드와 동일한 이름의 메서드를 자식 클래스가 정의하는 경우를 메서드 오버라이딩이라고 한다. 이 경우 부모 클래스의 메서드는 호출이 불가능한 상태가 된다.\n"
   ]
  },
  {
   "cell_type": "code",
   "execution_count": 6,
   "metadata": {
    "tags": []
   },
   "outputs": [
    {
     "name": "stdout",
     "output_type": "stream",
     "text": [
      "아들만의 달리는 능력\n",
      "달리는 능력\n",
      "<super: <class 'Son'>, <Son object>>\n",
      "<class 'super'>\n",
      "점프하는 능력\n"
     ]
    }
   ],
   "source": [
    "class Mother:\n",
    "    def run(self):\n",
    "        print(\"달리는 능력\")\n",
    "\n",
    "\n",
    "class Son(Mother):\n",
    "    def jump(self):\n",
    "        print(\"점프하는 능력\")\n",
    "\n",
    "    ## 오버라이딩\n",
    "    def run(self):\n",
    "        print(\"아들만의 달리는 능력\")\n",
    "\n",
    "    ## super()\n",
    "    def mother_run(self):\n",
    "        super().run()\n",
    "\n",
    "        print(super())\n",
    "        # <super: <class 'Son'>, <Son object>>\n",
    "\n",
    "        print(type(super()))\n",
    "        # <class 'super'>\n",
    "\n",
    "\n",
    "son1 = Son()\n",
    "\n",
    "son1.run()\n",
    "# 아들만의 달리는 능력 (오버라이딩)\n",
    "\n",
    "son1.mother_run()\n",
    "# 달리는 능력 (super()을 이용한 부모클래스의 메서드 사용)\n",
    "\n",
    "son1.jump()\n",
    "# 점프하는 능력"
   ]
  },
  {
   "cell_type": "markdown",
   "metadata": {},
   "source": [
    "## [다중상속]\n",
    "\n",
    "- 파이썬의 모든 것들은 object에 상속받는다."
   ]
  },
  {
   "cell_type": "code",
   "execution_count": 7,
   "metadata": {
    "tags": []
   },
   "outputs": [
    {
     "name": "stdout",
     "output_type": "stream",
     "text": [
      "[<class '__main__.M'>, <class '__main__.B'>, <class '__main__.A'>, <class '__main__.X'>, <class '__main__.Y'>, <class '__main__.Z'>, <class 'object'>]\n"
     ]
    }
   ],
   "source": [
    "class X:\n",
    "    pass\n",
    "\n",
    "\n",
    "class Y:\n",
    "    pass\n",
    "\n",
    "\n",
    "class Z:\n",
    "    pass\n",
    "\n",
    "\n",
    "class A(X, Y):\n",
    "    pass\n",
    "\n",
    "\n",
    "class B(Y, Z):\n",
    "    pass\n",
    "\n",
    "\n",
    "class M(B, A, Z):\n",
    "    pass\n",
    "\n",
    "\n",
    "print(M.mro())\n",
    "# [<class '__main__.M'>, <class '__main__.B'>, <class '__main__.A'>, <class '__main__.X'>, <class '__main__.Y'>, <class '__main__.Z'>, <class 'object'>]"
   ]
  },
  {
   "cell_type": "code",
   "execution_count": null,
   "metadata": {},
   "outputs": [],
   "source": []
  }
 ],
 "metadata": {
  "kernelspec": {
   "display_name": "Python 3.8.6 64-bit ('Pythonic': pipenv)",
   "language": "python",
   "name": "python38664bitpythonicpipenv6de764fe9a9949f68e00c05971b5099c"
  },
  "language_info": {
   "codemirror_mode": {
    "name": "ipython",
    "version": 3
   },
   "file_extension": ".py",
   "mimetype": "text/x-python",
   "name": "python",
   "nbconvert_exporter": "python",
   "pygments_lexer": "ipython3",
   "version": "3.8.6-final"
  }
 },
 "nbformat": 4,
 "nbformat_minor": 2
}