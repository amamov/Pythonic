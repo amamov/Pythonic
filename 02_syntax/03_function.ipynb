{
 "cells": [
  {
   "cell_type": "markdown",
   "metadata": {},
   "source": [
    "# Python function"
   ]
  },
  {
   "cell_type": "markdown",
   "metadata": {},
   "source": [
    "## [Intro]\n",
    "### 1. 함수의 선언 위치는 함수 호출보다 선행되어야 한다.\n",
    "### 2. 함수 또한 객체이므로 변수에 저장, 함수에 인자로 함수 전달 등이 가능하다.\n",
    "\n",
    "### 3. Lambda식 표현 : 메모리 절약, 가독성 향상, 코드 간결 --> 일반적인 함수는 객체 생성을 한다.(메모리 할당) But Lambda는 즉시 실행된다.(Heap 초기화; 메모리 초기화)\n",
    "\n",
    "## [전역변수 & 지역변수]\n",
    "\n",
    "### - 지역변수(Local variable)은 함수 안에서 정의 되는 변수이고 전역변수(Global variable)는 함수 밖에서 정의 되는 변수이다.\n",
    "\n",
    "### - 지역변수는 그 변수가 정의된 함수 안에서만 사용할 수 있다. 함수가 실행될 때마다 새로 만들어지고, 함수의 실행이 종료되면 삭제된다. \n",
    "\n",
    "### - 파이썬에서 전역변수는 함수 안에서 읽을 수는 있지만 수정이 불가능하다.\n",
    "\n",
    "### - 함수 안에서 전역변수를 수정할 수 없지만 global 문을 이용하면 전역변수를 함수 안에서 수정할 수 있다."
   ]
  },
  {
   "cell_type": "markdown",
   "metadata": {},
   "source": [
    "## [How Use ?]"
   ]
  },
  {
   "cell_type": "code",
   "execution_count": 2,
   "metadata": {
    "tags": []
   },
   "outputs": [
    {
     "output_type": "stream",
     "name": "stdout",
     "text": "arg1 :  1\narg2 :  2\nargs :  (3, 4, 5, 6, 7, 8, 9)\nargs type :  <class 'tuple'>\nkwargs :  {'what': False, 'why': True, 'Hello': 'Hello world!'}\nkwargs :  <class 'dict'>\n"
    },
    {
     "output_type": "execute_result",
     "data": {
      "text/plain": "3"
     },
     "metadata": {},
     "execution_count": 2
    }
   ],
   "source": [
    "def function(arg1, arg2, *args, **kwargs):\n",
    "    print(\"arg1 : \", arg1)\n",
    "    print(\"arg2 : \", arg2)\n",
    "\n",
    "    print(\"args : \", args)\n",
    "    print(\"args type : \", type(args))\n",
    "\n",
    "    print(\"kwargs : \", kwargs)\n",
    "    print(\"kwargs : \", type(kwargs))\n",
    "    return arg1 + arg2\n",
    "\n",
    "\n",
    "function(1, 2, 3, 4, 5, 6, 7, 8, 9, what=False, why=True, Hello=\"Hello world!\")"
   ]
  },
  {
   "cell_type": "markdown",
   "metadata": {},
   "source": [
    "## [Point 1. 단일 파라미터는 다중 파라미터보다 먼저 와야한다.]"
   ]
  },
  {
   "cell_type": "code",
   "execution_count": 3,
   "metadata": {
    "tags": []
   },
   "outputs": [
    {
     "output_type": "stream",
     "name": "stdout",
     "text": "55\n"
    }
   ],
   "source": [
    "def plus(number1, *number):\n",
    "    return number1 + sum(number)\n",
    "\n",
    "\n",
    "print(plus(1, 2, 3, 4, 5, 6, 7, 8, 9, 10))"
   ]
  },
  {
   "cell_type": "markdown",
   "metadata": {},
   "source": [
    "## [Point 2. 초기값을 미리 설정할 수 있다.]"
   ]
  },
  {
   "cell_type": "code",
   "execution_count": 6,
   "metadata": {
    "tags": []
   },
   "outputs": [
    {
     "output_type": "stream",
     "name": "stdout",
     "text": "arg1 : 1, arg2 : 3, x : 5, y : 200\narg1 : 1, arg2 : 3, x : 100, y : 200\narg1 : 1, arg2 : 3, x : 4, y : 5\n"
    }
   ],
   "source": [
    "def default_func(arg1, arg2, x=100, y=200):\n",
    "    print(\"arg1 :\", arg1, end=\", \")\n",
    "    print(\"arg2 :\", arg2, end=\", \")\n",
    "    print(\"x :\", x, end=\", \")\n",
    "    print(\"y :\", y)\n",
    "\n",
    "\n",
    "default_func(1, 3, 5)\n",
    "default_func(1, 3)\n",
    "default_func(1, 3, y=5, x=4)\n"
   ]
  },
  {
   "cell_type": "markdown",
   "metadata": {},
   "source": [
    "## [Point 3. 클로저와 데코레이터]\n",
    "\n",
    "### 1. 네스티드(nested) 함수 : 함수 안에 있는 함수\n",
    "\n",
    "### 2. 클로져(closure)\n",
    "    - 네스티드 함수가 자신이 필요한 변수의 값을 어딘가에 저장해 놓는 기술\n",
    "    - 반환되는 네스티드 함수에 대해서 Free variable 영역에 선언된 연결 정보를 가지고 참조하는 방식\n",
    "\n",
    "\n",
    "- 네스티드 함수의 반환 당시 네스티드 함수 유효범위(Closure 영역)를 벗어난 변수 또는 메소드(Free variable 영역)에 직접 접근이 가능하다.\n",
    "- 전역 변수 사용이 감소하고 변수의 은닉화, 다양한 디자인 패턴에 적용할 수 있는 장점이 있다.\n",
    "\n",
    "### 3. 데코레이터(decorator)\n",
    "- 코드 중복 제거, 코드 간결\n",
    "- 모듈화 가능\n",
    "- 클로져보다 문법 간결\n"
   ]
  },
  {
   "cell_type": "code",
   "execution_count": 21,
   "metadata": {
    "tags": []
   },
   "outputs": [],
   "source": [
    "from dis import dis # 바이트코드의 실행 흐름을 볼 수 있는 내장 패키지\n",
    "\n",
    "def func_dis(a):\n",
    "    print(a)\n",
    "    print(b)\n",
    "    b=5\n",
    "\n",
    "# print(dis(func_dis))"
   ]
  },
  {
   "cell_type": "code",
   "execution_count": 20,
   "metadata": {
    "tags": []
   },
   "outputs": [
    {
     "output_type": "stream",
     "name": "stdout",
     "text": "10.0\n12.5\n15.0\n[10, 15, 20]\n"
    }
   ],
   "source": [
    "# 클래스를 사용하여 누적함수 구현\n",
    "class Cumulative():\n",
    "    def __init__(self):\n",
    "        self.total = []\n",
    "\n",
    "    def __call__(self, number):\n",
    "        self.total.append(number)\n",
    "        return round(sum(self.total) / len(self.total), 2)\n",
    "\n",
    "\n",
    "avg = Cumulative()\n",
    "print(avg(10))\n",
    "print(avg(15))\n",
    "print(avg(20))\n",
    "print(avg.total)"
   ]
  },
  {
   "cell_type": "code",
   "execution_count": 13,
   "metadata": {
    "tags": []
   },
   "outputs": [
    {
     "output_type": "stream",
     "name": "stdout",
     "text": "15.0\n22.5\n28.33\n[15, 30, 40]\n('total',)\n"
    }
   ],
   "source": [
    "# 클로져를 사용하여 누적함수 구현\n",
    "\n",
    "def cumulative():\n",
    "    # Free variable 영역 (네스티드 함수와 외부 함수 사이 영역)\n",
    "    total = []\n",
    "\n",
    "    def averager(number):\n",
    "        # Closure 영역\n",
    "        total.append(number)\n",
    "        return round(sum(total) / len(total), 2)\n",
    "\n",
    "    return averager\n",
    "\n",
    "\n",
    "avg = cumulative()\n",
    "\n",
    "print(avg(15))\n",
    "print(avg(30))\n",
    "print(avg(40))\n",
    "\n",
    "print(avg.__closure__[0].cell_contents)\n",
    "print(avg.__code__.co_freevars)"
   ]
  },
  {
   "cell_type": "code",
   "execution_count": 14,
   "metadata": {
    "tags": []
   },
   "outputs": [
    {
     "output_type": "stream",
     "name": "stdout",
     "text": "15.0\n22.5\n28.33\n"
    }
   ],
   "source": [
    "def cumulative():\n",
    "    # Free variable 영역 (네스티드 함수와 외부 함수 사이 영역)\n",
    "    cnt = 0\n",
    "    total = 0\n",
    "\n",
    "    def averager(number):\n",
    "        # Closure 영역\n",
    "        # free variable에 있는 변수들을 사용한다고 명시해야한다.\n",
    "        nonlocal cnt, total\n",
    "        cnt += 1\n",
    "        total += number\n",
    "        return round(total / cnt, 2)\n",
    "\n",
    "    return averager\n",
    "\n",
    "\n",
    "avg = cumulative()\n",
    "\n",
    "print(avg(15))\n",
    "print(avg(30))\n",
    "print(avg(40))"
   ]
  },
  {
   "cell_type": "code",
   "execution_count": 5,
   "metadata": {
    "tags": []
   },
   "outputs": [
    {
     "output_type": "stream",
     "name": "stdout",
     "text": "This is emoticon\n^_^\nThis is emoticon\n@_@\n"
    }
   ],
   "source": [
    "# 데코레이터\n",
    "\n",
    "def decorator(func):\n",
    "    def inner():\n",
    "        print('This is emoticon')\n",
    "        func()\n",
    "    return inner\n",
    "\n",
    "def smile():\n",
    "    print('^_^')\n",
    "\n",
    "smile = decorator(smile)\n",
    "smile()\n",
    "\n",
    "@decorator\n",
    "def confused():\n",
    "    print('@_@')\n",
    "\n",
    "confused()\n"
   ]
  },
  {
   "cell_type": "code",
   "execution_count": 22,
   "metadata": {
    "tags": []
   },
   "outputs": [
    {
     "output_type": "stream",
     "name": "stdout",
     "text": "11031.211581787 -> 11031.211584625 : 2.84e-06\n11031.212167784 -> 11031.212171362 : 3.58e-06\n"
    },
    {
     "output_type": "execute_result",
     "data": {
      "text/plain": "45"
     },
     "metadata": {},
     "execution_count": 22
    }
   ],
   "source": [
    "import time\n",
    "\n",
    "# 함수의 퍼포먼스를 체크하는 데코레이터 개발\n",
    "\n",
    "\n",
    "def performance_clock(func):\n",
    "    def performance_clocked(*args):\n",
    "        start_time = time.perf_counter()\n",
    "        result = func(*args)\n",
    "        end_time = time.perf_counter()\n",
    "        print(f\"{start_time} -> {end_time} : {round(end_time - start_time, 8)}\")\n",
    "        return result\n",
    "\n",
    "    return performance_clocked\n",
    "\n",
    "\n",
    "@performance_clock\n",
    "def time_func(second):\n",
    "    time.sleep(second)\n",
    "\n",
    "\n",
    "@performance_clock\n",
    "def sum_func(*numbers):\n",
    "    return sum(numbers)\n",
    "\n",
    "\n",
    "# time_func(3)\n",
    "sum_func(1, 2, 3, 4, 5)\n",
    "sum_func(1, 2, 3, 4, 5, 6, 7, 8, 9)"
   ]
  },
  {
   "cell_type": "markdown",
   "metadata": {},
   "source": [
    "## [Point 4. Hint]"
   ]
  },
  {
   "cell_type": "code",
   "execution_count": 8,
   "metadata": {
    "tags": []
   },
   "outputs": [
    {
     "output_type": "stream",
     "name": "stdout",
     "text": "['H', 'e', 'l', 'l', 'o', 'H', 'e', 'l', 'l', 'o', 'H', 'e', 'l', 'l', 'o']\n"
    }
   ],
   "source": [
    "def print_hello_world(hello: str, count: int) -> list:\n",
    "    return list(hello * count)\n",
    "\n",
    "\n",
    "print(print_hello_world(\"Hello\", 3))"
   ]
  },
  {
   "cell_type": "markdown",
   "metadata": {},
   "source": [
    "## [Point 5. Lambda식 표현]"
   ]
  },
  {
   "cell_type": "markdown",
   "metadata": {},
   "source": [
    "```\n",
    "일반적인 함수\n",
    "```"
   ]
  },
  {
   "cell_type": "code",
   "execution_count": 11,
   "metadata": {
    "tags": []
   },
   "outputs": [
    {
     "output_type": "stream",
     "name": "stdout",
     "text": "<function mul_10 at 0x10b3e5f70>\n4483604336\n<class 'function'>\n"
    }
   ],
   "source": [
    "def mul_10(num: int) -> int:\n",
    "    return num * 10\n",
    "\n",
    "\n",
    "var_func = mul_10\n",
    "\n",
    "print(var_func)\n",
    "# <function mul_10 at 0x7fed96ec15f0> : 함수의 객체가 생성되어 메모리에 할당되었다.\n",
    "print(id(var_func))\n",
    "# 4483604336\n",
    "print(type(var_func))\n",
    "# <class 'function'>"
   ]
  },
  {
   "cell_type": "markdown",
   "metadata": {},
   "source": [
    "```\n",
    "Lambda 함수\n",
    "```"
   ]
  },
  {
   "cell_type": "code",
   "execution_count": 12,
   "metadata": {
    "tags": []
   },
   "outputs": [
    {
     "output_type": "stream",
     "name": "stdout",
     "text": "<function <lambda> at 0x10b3e5e50>\n100\n"
    }
   ],
   "source": [
    "lambda_mul_10 = lambda num: num * 10\n",
    "\n",
    "print(lambda_mul_10)\n",
    "# <function <lambda> at 0x7f876258e3b0>\n",
    "\n",
    "print(lambda_mul_10(10))\n",
    "# 100"
   ]
  }
 ],
 "metadata": {
  "language_info": {
   "codemirror_mode": {
    "name": "ipython",
    "version": 3
   },
   "file_extension": ".py",
   "mimetype": "text/x-python",
   "name": "python",
   "nbconvert_exporter": "python",
   "pygments_lexer": "ipython3",
   "version": "3.8.6-final"
  },
  "orig_nbformat": 2,
  "kernelspec": {
   "name": "python38664bitpythonicpipenv6de764fe9a9949f68e00c05971b5099c",
   "display_name": "Python 3.8.6 64-bit ('Pythonic': pipenv)"
  }
 },
 "nbformat": 4,
 "nbformat_minor": 2
}