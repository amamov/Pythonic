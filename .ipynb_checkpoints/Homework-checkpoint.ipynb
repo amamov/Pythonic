{
 "cells": [
  {
   "cell_type": "markdown",
   "metadata": {},
   "source": [
    "# SCSC 윤상석 파이썬 과제 (알고리즘 훈련 문제)\n",
    "### 12181878 수학과 윤상석"
   ]
  },
  {
   "cell_type": "markdown",
   "metadata": {},
   "source": [
    "## 1. K번째 약수\n",
    "```\n",
    "두 개의 자연수 N과 K가 주어졌을 때, N의 약수들 중 K번째로 작은 수를 출력하는 프로그램을 작성하시오.\n",
    "▣ 입력설명\n",
    "첫째 줄에 N과 K가 빈칸을 사이에 두고 주어진다. N은 1 이상 10,000 이하이다. K는 1 이상 N 이하이다.\n",
    "▣ 출력설명\n",
    "첫째 줄에 N의 약수들 중 K번째로 작은 수를 출력한다. 만일 N의 약수의 개수가 K개보다 적어서 K번째 약수가 존재하지 않을 경우에는 -1을 출력하시오.\n",
    "```"
   ]
  },
  {
   "cell_type": "code",
   "execution_count": 18,
   "metadata": {},
   "outputs": [
    {
     "name": "stdout",
     "output_type": "stream",
     "text": [
      "6 3\n",
      "3\n"
     ]
    }
   ],
   "source": [
    "def get_factors(N: int) -> list:\n",
    "    factors = []\n",
    "    for i in range(1, N+1):\n",
    "        if N % i == 0:\n",
    "            factors.append(i)\n",
    "    return factors\n",
    "        \n",
    "def main():\n",
    "    N, K = map(int, input().split(' '))\n",
    "    factors = get_factors(N)\n",
    "    try:\n",
    "        result = factors[K-1]\n",
    "    except IndexError:\n",
    "        result = -1\n",
    "    print(result)\n",
    "    \n",
    "main()"
   ]
  },
  {
   "cell_type": "markdown",
   "metadata": {},
   "source": [
    "## 2. K번째 작은 수\n",
    "```\n",
    "N개의 숫자로 이루어진 숫자열이 주어지면 해당 숫자열중에서 s번째부터 e번째 까지의 수 중 k번째로 작은 수를 출력하는 프로그램을 작성하세요.\n",
    "▣ 입력설명\n",
    "첫 번째 줄에 테스트 케이스 T(1<=T<=10)이 주어집니다.\n",
    "각 케이스별\n",
    "첫 번째 줄은 자연수 N(5<=N<=500), s, e, k가 차례로 주어진다. 두 번째 줄에 N개의 숫자가 차례로 주어진다.\n",
    "▣ 출력설명\n",
    "각 케이스별 k번째 수를 아래 출력예제와 같이 출력하세요.\n",
    "```"
   ]
  },
  {
   "cell_type": "code",
   "execution_count": 19,
   "metadata": {},
   "outputs": [
    {
     "name": "stdout",
     "output_type": "stream",
     "text": [
      "2\n",
      "6 2 5 3\n",
      "5 2 7 3 8 9\n",
      "15 3 10 3\n",
      "4 15 8 16 6 6 17 3 10 11 18 7 14 7 15\n",
      "#1 7\n",
      "#2 6\n"
     ]
    }
   ],
   "source": [
    "def min_of_k(data: list, s: int, e: int, k: int) -> int:\n",
    "    data = data[s-1:e-1]\n",
    "    data.sort()\n",
    "    return data[k-1]\n",
    "\n",
    "def main():\n",
    "    T = int(input())\n",
    "    result = []\n",
    "    for loop in range(T):\n",
    "        init_data = tuple(map(int, input().split(' ')))\n",
    "        N = init_data[0]\n",
    "        s = init_data[1]\n",
    "        e = init_data[2]\n",
    "        k = init_data[3]\n",
    "        data = list(map(int, input().split(' ')))\n",
    "        if len(data) != N:\n",
    "            raise TypeError\n",
    "        result.append(min_of_k(data, s, e, k))\n",
    "    for idx, var in enumerate(result):\n",
    "        print(f'#{idx + 1} {var}')\n",
    "\n",
    "main()"
   ]
  },
  {
   "cell_type": "markdown",
   "metadata": {},
   "source": [
    "\n",
    "## 3. K번째 큰 수\n",
    "```\n",
    "현수는 1부터 100사이의 자연수가 적힌 N장의 카드를 가지고 있습니다. 같은 숫자의 카드가 여러장 있을 수 있습니다. 현수는 이 중 3장을 뽑아 각 카드에 적힌 수를 합한 값을 기록하려 고 합니다. 3장을 뽑을 수 있는 모든 경우를 기록합니다. 기록한 값 중 K번째로 큰 수를 출력 하는 프로그램을 작성하세요.\n",
    "만약 큰 수부터 만들어진 수가 25 25 23 23 22 20 19......이고 K값이 3이라면 K번째 큰 값 은 22입니다.\n",
    "▣ 입력설명\n",
    "첫 줄에 자연수 N(3<=N<=100)과 K(1<=K<=50) 입력되고, 그 다음 줄에 N개의 카드값이 입력 된다.\n",
    "▣ 출력설명\n",
    "첫 줄에 K번째 수를 출력합니다. K번째 수는 반드시 존재합니다.\n",
    "```"
   ]
  },
  {
   "cell_type": "code",
   "execution_count": 34,
   "metadata": {
    "scrolled": true
   },
   "outputs": [
    {
     "name": "stdout",
     "output_type": "stream",
     "text": [
      "10 3\n",
      "13 15 34 23 45 65 33 11 26 42\n",
      "143\n"
     ]
    }
   ],
   "source": [
    "def get_max_of_K(data: list, K: int) -> int:\n",
    "    return data[K-1]\n",
    "\n",
    "def get_three_sum(data: list) -> list:\n",
    "    result = []\n",
    "    for idx, var1 in enumerate(data[:-2]):\n",
    "        for jdx, var2 in enumerate(data[idx+1:-1]):\n",
    "            for var3 in data[idx+1:][jdx+1:]:\n",
    "                result.append(var1 + var2 + var3)\n",
    "                    \n",
    "    result = list(set(result))\n",
    "    result.sort(reverse=True)\n",
    "    return result\n",
    "\n",
    "def main():\n",
    "    N, K = map(int, input().split(' '))\n",
    "    data = list(map(int, input().split(' ')))\n",
    "    if len(data) != N:\n",
    "        raise TypeError\n",
    "    three_sum_data = get_three_sum(data)\n",
    "    result = get_max_of_K(three_sum_data, K)\n",
    "    print(result)\n",
    "\n",
    "main()"
   ]
  },
  {
   "cell_type": "markdown",
   "metadata": {},
   "source": [
    "## 4. 대표값\n",
    "```\n",
    "N명의 학생의 수학성적이 주어집니다. N명의 학생들의 평균(소수 첫째자리 반올림)을 구하고, N명의 학생 중 평균에 가장 가까운 학생은 몇 번째 학생인지 출력하는 프로그램을 작성하세요.\n",
    "답이 2개일 경우 성적이 높은 학생의 번호를 출력하세요. 만약 답이 되는 점수가 여러 개일 경우 번호가 빠른 학생의 번호를 답으로 한다.\n",
    "▣ 입력설명\n",
    "첫줄에 자연수 N(5<=N<=100)이 주어지고, 두 번째 줄에는 N개의 자연수가 주어진다. 학생의 번호는 앞에서부터 1로 시작해서 N까지이다.\n",
    "▣ 출력설명\n",
    "첫줄에 평균과 평균에 가장 가까운 학생의 번호를 출력한다. 평균은 소수 첫째 자리에서 반올림합니다.\n",
    "▣ 입력예제 \n",
    "10\n",
    "65 73 66 87 92 67 55 79 75 80\n",
    "▣ 출력예제 \n",
    "74 9\n",
    "```"
   ]
  },
  {
   "cell_type": "code",
   "execution_count": 8,
   "metadata": {},
   "outputs": [
    {
     "name": "stdout",
     "output_type": "stream",
     "text": [
      "10\n",
      "65 73 66 87 92 67 55 79 75 80\n",
      "74 9\n"
     ]
    }
   ],
   "source": [
    "def get_avg_student_index(grades: list, avg: float) -> int:\n",
    "    deviations = [grade - avg for grade in grades]\n",
    "    deviations_abs = [abs(deviation) for deviation in deviations]\n",
    "    small = min(deviations_abs)\n",
    "    for idx, deviation in enumerate(deviations):\n",
    "        if deviation == small:\n",
    "            avg_student_index = idx\n",
    "            break\n",
    "    return avg_student_index\n",
    "\n",
    "def get_avg(grades: list) -> float:\n",
    "    avg = sum(grades) / len(grades)\n",
    "    return round(avg)\n",
    "\n",
    "def main():\n",
    "    N = int(input())\n",
    "    grades = list(map(int, input().split(' ')))\n",
    "    if len(grades) != N:\n",
    "        raise TypeError\n",
    "    avg = get_avg(grades)\n",
    "    avg_student_index = get_avg_student_index(grades, avg)\n",
    "    print(avg, avg_student_index + 1)\n",
    "\n",
    "main()"
   ]
  },
  {
   "cell_type": "markdown",
   "metadata": {},
   "source": [
    "## 5.  정다면체\n",
    "```\n",
    "두 개의 정 N면체와 정 M면체의 두 개의 주사위를 던져서 나올 수 있는 눈의 합 중 가장 확 률이 높은 숫자를 출력하는 프로그램을 작성하세요.\n",
    "정답이 여러 개일 경우 오름차순으로 출력합니다.\n",
    "▣ 입력설명\n",
    "첫 번째 줄에는 자연수 N과 M이 주어집니다. N과 M은 4, 6, 8, 12, 20 중의 하나입니다.\n",
    "▣ 출력설명\n",
    "첫 번째 줄에 답을 출력합니다.\n",
    "▣ 입력예제 \n",
    "46\n",
    "▣ 출력예제 \n",
    "567\n",
    "```"
   ]
  },
  {
   "cell_type": "code",
   "execution_count": null,
   "metadata": {},
   "outputs": [],
   "source": []
  },
  {
   "cell_type": "markdown",
   "metadata": {},
   "source": [
    "## 6. 자릿수의 합\n",
    "```\n",
    "N개의 자연수가 입력되면 각 자연수의 자릿수의 합을 구하고, 그 합이 최대인 자연수를 출력 하는 프로그램을 작성하세요. 각 자연수의 자릿수의 합을 구하는 함수를 def digit_sum(x)를 꼭 작성해서 프로그래밍 하세요.\n",
    "▣ 입력설명\n",
    "첫 줄에 자연수의 개수 N(3<=N<=100)이 주어지고, 그 다음 줄에 N개의 자연수가 주어진다. 각 자연수의 크기는 10,000,000를 넘지 않는다.\n",
    "▣ 출력설명\n",
    "자릿수의 합이 최대인 자연수를 출력한다.\n",
    "▣ 입력예제 1 3\n",
    "125 15232 97\n",
    "▣ 출력예제 1 97\n",
    "```"
   ]
  },
  {
   "cell_type": "code",
   "execution_count": null,
   "metadata": {},
   "outputs": [],
   "source": []
  },
  {
   "cell_type": "markdown",
   "metadata": {},
   "source": [
    "## 7. 소수(에라토스테네스의 체)\n",
    "```\n",
    "자연수 N이 입력되면 1부터 N까지의 소수의 개수를 출력하는 프로그램을 작성하세요. 만약 20이 입력되면 1부터 20까지의 소수는 2, 3, 5, 7, 11, 13, 17, 19로 총 8개입니다. 제한시간은 1초입니다.\n",
    "▣ 입력설명\n",
    "첫 줄에 자연수의 개수 N(2<=N<=200,000)이 주어집니다.\n",
    "▣ 출력설명\n",
    "첫 줄에 소수의 개수를 출력합니다.\n",
    "▣ 입력예제 \n",
    "20\n",
    "▣ 출력예제 \n",
    "8\n",
    "```"
   ]
  },
  {
   "cell_type": "code",
   "execution_count": null,
   "metadata": {},
   "outputs": [],
   "source": []
  },
  {
   "cell_type": "markdown",
   "metadata": {},
   "source": [
    "## 8. 뒤집은 소수\n",
    "```\n",
    "N개의 자연수가 입력되면 각 자연수를 뒤집은 후 그 뒤집은 수가 소수이면 그 수를 출력하는 프로그램을 작성하세요. 예를 들어 32를 뒤집으면 23이고, 23은 소수이다. 그러면 23을 출력 한다. 단 910를 뒤집으면 19로 숫자화 해야 한다. 첫 자리부터의 연속된 0은 무시한다.\n",
    "뒤집는 함수인 def reverse(x) 와 소수인지를 확인하는 함수 def isPrime(x)를 반드시 작성하 여 프로그래밍 한다.\n",
    "▣ 입력설명\n",
    "첫 줄에 자연수의 개수 N(3<=N<=100)이 주어지고, 그 다음 줄에 N개의 자연수가 주어진다. 각 자연수의 크기는 100,000를 넘지 않는다.\n",
    "▣ 출력설명\n",
    "첫 줄에 뒤집은 소수를 출력합니다. 출력순서는 입력된 순서대로 출력합니다.\n",
    "▣ 입력예제 \n",
    "5\n",
    "32 55 62 3700 250\n",
    "▣ 출력예제 \n",
    "23 73\n",
    "```"
   ]
  },
  {
   "cell_type": "code",
   "execution_count": null,
   "metadata": {},
   "outputs": [],
   "source": []
  }
 ],
 "metadata": {
  "kernelspec": {
   "display_name": "Python 3.8.3 64-bit",
   "language": "python",
   "name": "python38364bit81b4e07168b04f658acacdc50edec017"
  },
  "language_info": {
   "codemirror_mode": {
    "name": "ipython",
    "version": 3
   },
   "file_extension": ".py",
   "mimetype": "text/x-python",
   "name": "python",
   "nbconvert_exporter": "python",
   "pygments_lexer": "ipython3",
   "version": "3.8.3"
  }
 },
 "nbformat": 4,
 "nbformat_minor": 4
}
