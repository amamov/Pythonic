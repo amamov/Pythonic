{
 "cells": [
  {
   "cell_type": "markdown",
   "metadata": {},
   "source": [
    "# Python Create Json File"
   ]
  },
  {
   "cell_type": "code",
   "execution_count": 2,
   "metadata": {
    "tags": []
   },
   "outputs": [
    {
     "output_type": "stream",
     "name": "stdout",
     "text": "Create Json File!\n"
    }
   ],
   "source": [
    "import json\n",
    "from pathlib import Path\n",
    "\n",
    "file_path = str(Path('__file__').resolve().parent) + '/test_files/test.json'\n",
    "\n",
    "data = {\"name\": \"joy\", \"2\": \"2\"}\n",
    "\n",
    "with open(file_path, \"w\", encoding=\"utf-8\") as file:\n",
    "    json.dump(data, file, indent=\"\\t\")\n",
    "    \n",
    "print('Create Json File!')"
   ]
  },
  {
   "cell_type": "code",
   "execution_count": null,
   "metadata": {},
   "outputs": [],
   "source": []
  }
 ],
 "metadata": {
  "language_info": {
   "codemirror_mode": {
    "name": "ipython",
    "version": 3
   },
   "file_extension": ".py",
   "mimetype": "text/x-python",
   "name": "python",
   "nbconvert_exporter": "python",
   "pygments_lexer": "ipython3",
   "version": "3.8.6-final"
  },
  "orig_nbformat": 2,
  "kernelspec": {
   "name": "python38664bitpythonicpipenv6de764fe9a9949f68e00c05971b5099c",
   "display_name": "Python 3.8.6 64-bit ('Pythonic': pipenv)"
  }
 },
 "nbformat": 4,
 "nbformat_minor": 2
}